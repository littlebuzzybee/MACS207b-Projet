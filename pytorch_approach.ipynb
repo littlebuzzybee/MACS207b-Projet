{
 "cells": [
  {
   "cell_type": "markdown",
   "id": "052b003d-ef5f-44fd-b868-b6670e0ace9d",
   "metadata": {},
   "source": [
    "# Poisson process filtering - PyTorch (Lightning) approach"
   ]
  },
  {
   "cell_type": "markdown",
   "id": "4c66bad8-232f-482e-b51f-c09b031eac76",
   "metadata": {},
   "source": [
    "## Imports"
   ]
  },
  {
   "cell_type": "code",
   "execution_count": 151,
   "id": "1f26ab69-c348-42ef-8c12-bae49f72d32e",
   "metadata": {},
   "outputs": [],
   "source": [
    "from tqdm import tqdm\n",
    "import matplotlib.pyplot as plt\n",
    "import seaborn as sns\n",
    "sns.set()\n",
    "sns.set_palette(\"hls\")\n",
    "import numpy as np\n",
    "import torch\n",
    "from torch import nn\n",
    "from torch.nn import functional as F\n",
    "from torch.utils.data import Dataset, DataLoader"
   ]
  },
  {
   "cell_type": "markdown",
   "id": "cf0c3539-d42c-4806-ad7e-f7fd02ed794b",
   "metadata": {},
   "source": [
    "## Constants"
   ]
  },
  {
   "cell_type": "code",
   "execution_count": 152,
   "id": "f7450794-c937-4e7e-b3aa-0c0ff8436340",
   "metadata": {},
   "outputs": [],
   "source": [
    "MAX_ARRIVALS = 128\n",
    "BATCH_SIZE = 128"
   ]
  },
  {
   "cell_type": "markdown",
   "id": "08028969-ec54-4d5e-be6c-80a6c7c358dd",
   "metadata": {},
   "source": [
    "## Process generating"
   ]
  },
  {
   "cell_type": "code",
   "execution_count": 153,
   "id": "130c2805-7888-49f2-89cb-215dbf39219c",
   "metadata": {},
   "outputs": [],
   "source": [
    "def poisson_proc(lmbda, orig, horiz, rng):\n",
    "    \"\"\"\n",
    "    Generates arrivals of a point Poisson process\n",
    "    \"\"\"\n",
    "    arrivals = []\n",
    "    t = orig\n",
    "    while t < horiz:\n",
    "        t = t - np.log(rng.random()) / lmbda\n",
    "        arrivals.append(t)\n",
    "    \n",
    "    return np.sort(arrivals[:-1])"
   ]
  },
  {
   "cell_type": "code",
   "execution_count": 154,
   "id": "718dd917-f2fd-4d67-ab48-4ed0a8e797be",
   "metadata": {},
   "outputs": [],
   "source": [
    "def trajectory(a, b, mu, beg, end, rng):\n",
    "    \"\"\"\n",
    "    Generates concatenated processes arrivals\n",
    "    \"\"\"\n",
    "    tau = beg + rng.exponential(1/mu)\n",
    "    while tau > end: # force sampling of tau in (beg, end)\n",
    "        tau = beg + rng.exponential(1/mu)\n",
    "    arrivals = np.concatenate((poisson_proc(a, beg, tau, rng),\n",
    "                               poisson_proc(b, tau, end, rng)))\n",
    "    arrivals = arrivals[:MAX_ARRIVALS]                                        # trim\n",
    "    arrivals = np.pad(arrivals, (0, MAX_ARRIVALS-arrivals.size), mode='edge') # pad\n",
    "    return arrivals, tau"
   ]
  },
  {
   "cell_type": "code",
   "execution_count": 155,
   "id": "9bbc4465-a5a7-4b5a-80e0-966a71e10e04",
   "metadata": {},
   "outputs": [],
   "source": [
    "def generate_process(rng):\n",
    "    \"\"\"\n",
    "    Generates an item with random parameters\n",
    "    \"\"\"\n",
    "    a = rng.uniform(low=3, high=7)      # low intensity\n",
    "    b = rng.uniform(low=8, high=12)     # high intensity\n",
    "    mu = rng.uniform(low=1/6, high=1/4) # for tau\n",
    "    beg = rng.exponential(5)\n",
    "    end = beg + 5 + rng.exponential(5) # assert end > beg\n",
    "    arrivals, tau = trajectory(a, b, mu, beg, end, rng)\n",
    "    \n",
    "    return arrivals, tau, a, b, mu, beg, end"
   ]
  },
  {
   "cell_type": "markdown",
   "id": "53e0972b-6465-4c11-be4c-2e8561bafd52",
   "metadata": {},
   "source": [
    "## Seed"
   ]
  },
  {
   "cell_type": "code",
   "execution_count": 156,
   "id": "ad067d0c-7b4c-4fd1-82cd-0f8cce49b515",
   "metadata": {},
   "outputs": [],
   "source": [
    "# setting the seed for reproducibility\n",
    "seed = 2022\n",
    "rng = np.random.default_rng(seed)"
   ]
  },
  {
   "cell_type": "markdown",
   "id": "00877649-a905-44da-81a5-e6f8427a7e19",
   "metadata": {},
   "source": [
    "## Model"
   ]
  },
  {
   "cell_type": "code",
   "execution_count": 157,
   "id": "b949f09e-b3c4-453c-bf96-19d7577b24a0",
   "metadata": {},
   "outputs": [],
   "source": [
    "class PoissonModel(nn.Module):\n",
    "    def __init__(self):\n",
    "        super().__init__()\n",
    "        self.fc1 = nn.Linear(MAX_ARRIVALS+5, 64)\n",
    "        self.fc2 = nn.Linear(64+5, 32)\n",
    "        self.fc3 = nn.Linear(32+5, 16)\n",
    "        self.fc4 = nn.Linear(16+5, 8)\n",
    "        self.fc5 = nn.Linear(8+5, 4)\n",
    "        self.fc6 = nn.Linear(4+5, 2)\n",
    "        self.fc7 = nn.Linear(2+5, 1)\n",
    "        self.fc8 = nn.Linear(1+5, 1)\n",
    "\n",
    "    def forward(self, x):\n",
    "        params = x[:, MAX_ARRIVALS:]\n",
    "        y = F.elu(self.fc1(x))                         # size 64\n",
    "        y = F.elu(self.fc2(torch.cat((y, params), 1))) # size 32\n",
    "        y = F.elu(self.fc3(torch.cat((y, params), 1))) # size 16\n",
    "        y = F.elu(self.fc4(torch.cat((y, params), 1))) # size 8\n",
    "        y = F.elu(self.fc5(torch.cat((y, params), 1))) # size 4\n",
    "        y = F.elu(self.fc6(torch.cat((y, params), 1))) # size 2\n",
    "        y = F.elu(self.fc7(torch.cat((y, params), 1))) # size 1        \n",
    "        return self.fc8(torch.cat((y, params), 1))"
   ]
  },
  {
   "cell_type": "code",
   "execution_count": 158,
   "id": "6d134901-fbf2-4ef1-8f2a-533fd814c831",
   "metadata": {},
   "outputs": [],
   "source": [
    "class ProcessDataset(Dataset):\n",
    "    def __init__(self, nb_samples, rng):\n",
    "        self.X = np.empty((nb_samples, MAX_ARRIVALS+5), dtype=np.float32)\n",
    "        self.y = np.empty((nb_samples, 1), dtype=np.float32)\n",
    "        for n in range(nb_samples):\n",
    "            arrivals, tau, a, b, mu, beg, end = generate_process(rng)\n",
    "            self.X[n, :MAX_ARRIVALS] = arrivals\n",
    "            self.X[n, MAX_ARRIVALS:] = (a, b, mu, beg, end)\n",
    "            self.y[n] = tau\n",
    "\n",
    "    def __len__(self):\n",
    "        return len(self.y)\n",
    "\n",
    "    def __getitem__(self, idx):\n",
    "        return self.X[idx], self.y[idx]"
   ]
  },
  {
   "cell_type": "code",
   "execution_count": 159,
   "id": "b29ed788-8b8e-4623-8a5e-f691cd4400ef",
   "metadata": {},
   "outputs": [],
   "source": [
    "train_data = ProcessDataset(2**15, rng)\n",
    "train_loader = DataLoader(train_data, batch_size=BATCH_SIZE)"
   ]
  },
  {
   "cell_type": "code",
   "execution_count": 160,
   "id": "8c7453fd-af2a-4960-8618-328e994fc408",
   "metadata": {},
   "outputs": [],
   "source": [
    "poisson_model = PoissonModel()\n",
    "criterion = nn.MSELoss()\n",
    "optimizer = torch.optim.Adam(poisson_model.parameters(), amsgrad=True, lr=5e-3)"
   ]
  },
  {
   "cell_type": "code",
   "execution_count": 161,
   "id": "adcec399-a0a8-4b60-8eb6-3508de92d13c",
   "metadata": {},
   "outputs": [
    {
     "name": "stderr",
     "output_type": "stream",
     "text": [
      "Epoch 1: 100%|█████████████████████████████████████████████████████████████████████████████████████████████| 256/256 [00:01<00:00, 129.59batch/s, loss=8.59]\n",
      "Epoch 2: 100%|█████████████████████████████████████████████████████████████████████████████████████████████| 256/256 [00:01<00:00, 132.11batch/s, loss=4.36]\n",
      "Epoch 3: 100%|█████████████████████████████████████████████████████████████████████████████████████████████| 256/256 [00:01<00:00, 134.63batch/s, loss=3.95]\n",
      "Epoch 4: 100%|█████████████████████████████████████████████████████████████████████████████████████████████| 256/256 [00:01<00:00, 132.47batch/s, loss=3.71]\n",
      "Epoch 5: 100%|█████████████████████████████████████████████████████████████████████████████████████████████| 256/256 [00:01<00:00, 133.41batch/s, loss=3.37]\n",
      "Epoch 6: 100%|█████████████████████████████████████████████████████████████████████████████████████████████| 256/256 [00:01<00:00, 130.05batch/s, loss=3.24]\n",
      "Epoch 7: 100%|█████████████████████████████████████████████████████████████████████████████████████████████| 256/256 [00:02<00:00, 126.23batch/s, loss=3.14]\n",
      "Epoch 8: 100%|████████████████████████████████████████████████████████████████████████████████████████████████| 256/256 [00:01<00:00, 130.27batch/s, loss=3]\n",
      "Epoch 9: 100%|██████████████████████████████████████████████████████████████████████████████████████████████| 256/256 [00:01<00:00, 135.57batch/s, loss=2.8]\n",
      "Epoch 10: 100%|████████████████████████████████████████████████████████████████████████████████████████████| 256/256 [00:01<00:00, 130.40batch/s, loss=2.68]\n"
     ]
    }
   ],
   "source": [
    "nb_epoch = 10\n",
    "poisson_model.train()\n",
    "for epoch in range(1, nb_epoch+1):\n",
    "    with tqdm(train_loader, unit=\"batch\") as tepoch:\n",
    "        for (data, target) in tepoch:\n",
    "            tepoch.set_description(f\"Epoch {epoch}\")\n",
    "            \n",
    "            optimizer.zero_grad()\n",
    "            pred = poisson_model(data)\n",
    "            loss = criterion(pred, target)\n",
    "            loss.backward()\n",
    "            optimizer.step()\n",
    "            \n",
    "            tepoch.set_postfix(loss=loss.item())"
   ]
  },
  {
   "cell_type": "markdown",
   "id": "ea489217-c659-44c6-b27a-65dcd83a2f8f",
   "metadata": {},
   "source": [
    "## Statistical analysis"
   ]
  },
  {
   "cell_type": "code",
   "execution_count": 162,
   "id": "a00c90f1-96f0-48b9-a226-8c47f5659b77",
   "metadata": {},
   "outputs": [],
   "source": [
    "def repeat_ests(model, n_repeats, seed):\n",
    "    \"\"\"\n",
    "    Repeats estimations of tau\n",
    "    \"\"\"\n",
    "    rng = np.random.default_rng(seed) # for reproducibility\n",
    "    \n",
    "    taus_l     = []\n",
    "    est_taus_l = []\n",
    "    \n",
    "    for repeat in tqdm(range(n_repeats)):\n",
    "        arrivals, tau, a, b, mu, beg, end = generate_process(rng)\n",
    "        taus_l.append(tau)\n",
    "        x = np.empty((MAX_ARRIVALS+5,), dtype=np.float32)\n",
    "        x[:MAX_ARRIVALS] = arrivals\n",
    "        x[MAX_ARRIVALS:] = (a, b, mu, beg, end)\n",
    "        with torch.no_grad():\n",
    "            tau_est = model(torch.Tensor(x.reshape(1, -1))).detach().numpy()[0][0]\n",
    "        est_taus_l.append(tau_est)\n",
    "        \n",
    "    return taus_l, est_taus_l"
   ]
  },
  {
   "cell_type": "code",
   "execution_count": 163,
   "id": "867f74bb-91e9-4dd8-a308-f03b0fc5f6a4",
   "metadata": {},
   "outputs": [],
   "source": [
    "def stat_summary(taus_l, est_taus_l):\n",
    "    \"\"\"\n",
    "    Prints a summary of the estimator and a bar plot of the errors\n",
    "    \"\"\"    \n",
    "    taus_arr = np.array(taus_l)\n",
    "    est_taus_arr = np.array(est_taus_l)\n",
    "    \n",
    "    error = taus_arr - est_taus_arr\n",
    "    \n",
    "    print(f\"bias: {np.mean(error):.2f}\")\n",
    "    print(f\"sigma: {np.std(error):.2f}\")\n",
    "    \n",
    "    fig = plt.figure(figsize=(10, 3))\n",
    "    plt.hist(error, bins=50)\n",
    "    plt.title(fr\"$\\tau - \\hat{{\\tau}}$\")\n",
    "    plt.show()"
   ]
  },
  {
   "cell_type": "code",
   "execution_count": 164,
   "id": "6bf3df38-cde5-4186-845b-4b72b29c1836",
   "metadata": {},
   "outputs": [
    {
     "name": "stderr",
     "output_type": "stream",
     "text": [
      "100%|█████████████████████████████████████████████████████████████████████████████████████████████████████████████████| 5000/5000 [00:03<00:00, 1652.04it/s]\n"
     ]
    },
    {
     "name": "stdout",
     "output_type": "stream",
     "text": [
      "bias: 0.36\n",
      "sigma: 1.47\n"
     ]
    },
    {
     "data": {
      "image/png": "[encoded data removed]",
      "text/plain": [
       "<Figure size 720x216 with 1 Axes>"
      ]
     },
     "metadata": {},
     "output_type": "display_data"
    }
   ],
   "source": [
    "taus_l, est_taus_l = repeat_ests(poisson_model, n_repeats=5000, seed=42)\n",
    "stat_summary(taus_l, est_taus_l)"
   ]
  },
  {
   "cell_type": "code",
   "execution_count": null,
   "id": "fdaae577-d4af-4c3b-a76a-3f0dafa2d95e",
   "metadata": {},
   "outputs": [],
   "source": []
  },
  {
   "cell_type": "code",
   "execution_count": null,
   "id": "7d57fdc4-c330-473e-9274-05b968f224d9",
   "metadata": {},
   "outputs": [],
   "source": []
  }
 ],
 "metadata": {
  "kernelspec": {
   "display_name": "Python 3 (ipykernel)",
   "language": "python",
   "name": "python3"
  },
  "language_info": {
   "codemirror_mode": {
    "name": "ipython",
    "version": 3
   },
   "file_extension": ".py",
   "mimetype": "text/x-python",
   "name": "python",
   "nbconvert_exporter": "python",
   "pygments_lexer": "ipython3",
   "version": "3.8.13"
  }
 },
 "nbformat": 4,
 "nbformat_minor": 5
}
