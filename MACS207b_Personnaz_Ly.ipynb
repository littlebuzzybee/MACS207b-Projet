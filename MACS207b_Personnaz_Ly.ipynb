{
 "cells": [
  {
   "cell_type": "markdown",
   "metadata": {},
   "source": [
    "# **Projet MACS207b**  - Filtrage\n",
    "- Rendu le 10 juin 2022"
   ]
  },
  {
   "cell_type": "markdown",
   "metadata": {},
   "source": [
    "**Louis PERSONAZ**\n",
    "\n",
    "**Timothée LY**"
   ]
  },
  {
   "cell_type": "markdown",
   "metadata": {},
   "source": [
    "**Hypothèses :**\n",
    "- $\\tau \\sim \\mathcal{E}(\\mu)$ avec $\\mu = 0,2$\n",
    "- $a = 5$ et $b = 10$"
   ]
  },
  {
   "cell_type": "markdown",
   "metadata": {},
   "source": [
    "On calcule la fonction $h$ donnée par :\n",
    "$$h(s) = \\dfrac{f(s)}{1-F(s)}$$ \n",
    "où $f$ est la densité de la loi $\\tau$.\n",
    "\n",
    "\n",
    "Pour une loi exponentielle : \n",
    "\n",
    "$\\forall s \\in \\mathbb{R}, \\ f(s) = \\mu e^{-\\mu s} \\mathbb{1}_{\\mathbb{R}^+}(s)$\n",
    "\n",
    "$\\forall s \\in \\mathbb{R}, \\ F(s) = (1 - e^{-\\mu s}) \\mathbb{1}_{\\mathbb{R}^+}(s)$\n",
    "\n",
    "Computing $h$ on $\\mathbb{R}^+$, we obtain : \n",
    "\n",
    "$$\n",
    "\\begin{align*}\n",
    "h(s) &= \\dfrac{ \\mu e^{-\\mu s}}{1-(1 - e^{-\\mu s})}\\\\\n",
    "&= \\dfrac{ \\mu e^{-\\mu s}}{e^{-\\mu s}} \\\\\n",
    "h(s)&= \\mu\n",
    "\\end{align*}\n",
    "$$\n",
    "\n",
    "<u> Application numérique </u> :  h(s) = 0.2"
   ]
  },
  {
   "cell_type": "markdown",
   "metadata": {},
   "source": [
    "### Imports"
   ]
  },
  {
   "cell_type": "code",
   "execution_count": 132,
   "metadata": {},
   "outputs": [
    {
     "data": {
      "text/plain": [
       "<function seaborn.rcmod.set(*args, **kwargs)>"
      ]
     },
     "execution_count": 132,
     "metadata": {},
     "output_type": "execute_result"
    }
   ],
   "source": [
    "import numpy as np\n",
    "import matplotlib.pyplot as plt\n",
    "import seaborn as sns\n",
    "sns.set\n"
   ]
  },
  {
   "cell_type": "code",
   "execution_count": 133,
   "metadata": {},
   "outputs": [],
   "source": [
    "mu = 0.2\n",
    "h = lambda x : mu"
   ]
  },
  {
   "cell_type": "code",
   "execution_count": 134,
   "metadata": {},
   "outputs": [],
   "source": [
    "a = 5\n",
    "b = 10"
   ]
  },
  {
   "cell_type": "code",
   "execution_count": 135,
   "metadata": {},
   "outputs": [],
   "source": [
    "def poisson_proc(u, beg, T, seed):\n",
    "    rng = np.random.default_rng(seed)\n",
    "    k = rng.poisson(u*T)\n",
    "    arrivals = rng.uniform(beg,T,k)\n",
    "    \n",
    "    return np.sort(arrivals)   "
   ]
  },
  {
   "cell_type": "code",
   "execution_count": 162,
   "metadata": {},
   "outputs": [],
   "source": [
    "tau_dist = lambda rng : rng.exponential(mu)\n",
    "\n",
    "Z = lambda t, tau : 1 if(tau <= t) else 0\n",
    "\n",
    "N = lambda a, b, t, tau : (a + (b-a)*Z(t,tau))*t"
   ]
  },
  {
   "cell_type": "code",
   "execution_count": 163,
   "metadata": {},
   "outputs": [],
   "source": [
    "def trajectory(n, a, b, seed, beg = 0, end = 10):\n",
    "    rng = np.random.default_rng(seed)\n",
    "    tau = tau_dist(rng)\n",
    "    arrivals = np.concatenate((poisson_proc(a, beg, tau, seed),poisson_proc(a, tau, end, seed)))\n",
    "    m = arrivals.size\n",
    "    traj = np.zeros(n)\n",
    "    t = np.linspace(beg,end,n)\n",
    "    idx = 0\n",
    "    for i in range(n):\n",
    "        buff = 0\n",
    "        if  idx < m and  t[i]>= arrivals[idx]:\n",
    "            buff = 1\n",
    "            idx +=1\n",
    "        traj[i] = traj[i-1] + buff\n",
    "    \n",
    "    plt.figure(figsize = (10,5))\n",
    "    plt.step(t,traj)\n",
    "    plt.title(\"Trajectory for \" + r'$\\tau =$' + format(tau, \".2f\") )\n",
    "    plt.ylabel(\"N(t)\")\n",
    "    plt.xlabel(\"t\")\n",
    "    plt.show()\n",
    "    \n",
    "    return arrivals, tau"
   ]
  },
  {
   "cell_type": "code",
   "execution_count": 164,
   "metadata": {},
   "outputs": [
    {
     "data": {
      "image/png": "[encoded data removed]",
      "text/plain": [
       "<Figure size 720x360 with 1 Axes>"
      ]
     },
     "metadata": {
      "needs_background": "light"
     },
     "output_type": "display_data"
    }
   ],
   "source": [
    "n = 1000\n",
    "arrivals, tau = trajectory(n, a, b, 9)"
   ]
  },
  {
   "cell_type": "code",
   "execution_count": 168,
   "metadata": {},
   "outputs": [],
   "source": [
    "Z = lambda t, arr : 1 if(arr <= t) else 0\n",
    "\n",
    "def Z_hat(s,tau):\n",
    "    # Formula using tau, doesn't work since we don't know tau Z(s,tau) - h(0) * min(tau,s)\n",
    "    # TODO : complete"
   ]
  },
  {
   "cell_type": "code",
   "execution_count": 169,
   "metadata": {},
   "outputs": [
    {
     "data": {
      "image/png": "[encoded data removed]",
      "text/plain": [
       "<Figure size 720x360 with 1 Axes>"
      ]
     },
     "metadata": {
      "needs_background": "light"
     },
     "output_type": "display_data"
    }
   ],
   "source": [
    "t = np.linspace(0,10,n)\n",
    "Z_hats = np.zeros(n)\n",
    "\n",
    "for i in range(n):\n",
    "    Z_hats[i] = Z_hat(t[i],tau)\n",
    "       \n",
    "plt.figure(figsize = (10,5))\n",
    "plt.plot(t,Z_hats)\n",
    "plt.title(r'$\\hat{Z}$ for $\\tau =$' + format(tau, \".2f\") )\n",
    "plt.ylabel(r'$\\hat{Z}(t)$')\n",
    "plt.xlabel(\"t\")\n",
    "plt.show()\n",
    "    "
   ]
  },
  {
   "cell_type": "code",
   "execution_count": null,
   "metadata": {},
   "outputs": [],
   "source": []
  },
  {
   "cell_type": "code",
   "execution_count": null,
   "metadata": {},
   "outputs": [],
   "source": []
  }
 ],
 "metadata": {
  "kernelspec": {
   "display_name": "Python 3 (ipykernel)",
   "language": "python",
   "name": "python3"
  },
  "language_info": {
   "codemirror_mode": {
    "name": "ipython",
    "version": 3
   },
   "file_extension": ".py",
   "mimetype": "text/x-python",
   "name": "python",
   "nbconvert_exporter": "python",
   "pygments_lexer": "ipython3",
   "version": "3.8.10"
  }
 },
 "nbformat": 4,
 "nbformat_minor": 4
}
