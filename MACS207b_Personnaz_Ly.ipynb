{
 "cells": [
  {
   "cell_type": "markdown",
   "metadata": {},
   "source": [
    "# **Projet MACS207b**  - Filtrage\n",
    "- Rendu le 10/06/2022"
   ]
  },
  {
   "cell_type": "markdown",
   "metadata": {},
   "source": [
    "**Timothée LY, Louis PERSONNAZ**"
   ]
  },
  {
   "cell_type": "markdown",
   "metadata": {},
   "source": [
    "# 1 - Présentation du problème"
   ]
  },
  {
   "cell_type": "markdown",
   "metadata": {},
   "source": [
    "**Hypothèses :**\n",
    "\n",
    "2 processus de Poisson indépendants $N_a$ et $N_b$, on observe $N_a$ puis $N_b$ après $\\tau$\n",
    "- $\\tau \\sim \\mathcal{E}(\\mu)$ avec $\\mu = 0.2$ et $\\tau$ indépendant de $N_a$, $N_b$\n",
    "- $a = 5$ et $b = 10$"
   ]
  },
  {
   "cell_type": "markdown",
   "metadata": {},
   "source": [
    "**But :** on veut estimer $\\tau$ à travers l'observation des instants de saut du processus ponctuel \"concaténé\" $N$"
   ]
  },
  {
   "cell_type": "markdown",
   "metadata": {},
   "source": [
    "**Notations :** $\\tau$ a pour densité $f$ et fonction de répartition $F$ "
   ]
  },
  {
   "cell_type": "markdown",
   "metadata": {},
   "source": [
    "# 2 - Résolution et implémentation"
   ]
  },
  {
   "cell_type": "markdown",
   "metadata": {},
   "source": [
    "On calcule la fonction $h$ donnée par :\n",
    "$$h(s) = \\dfrac{f(s)}{1-F(s)}$$\n",
    "\n",
    "Pour une loi exponentielle d'intensité $\\mu$: \n",
    "\n",
    "$\\forall s \\in \\mathbb{R}, \\ f(s) = \\mu e^{-\\mu s} \\mathbb{1}_{\\mathbb{R}^+}(s)$\n",
    "\n",
    "$\\forall s \\in \\mathbb{R}, \\ F(s) = (1 - e^{-\\mu s}) \\mathbb{1}_{\\mathbb{R}^+}(s)$\n",
    "\n",
    "d'où l'on tire\n",
    "\n",
    "$$\n",
    "\\begin{align*}\n",
    "\\forall s \\in \\mathbb{R}^+, \\quad h(s)\n",
    "&= \\dfrac{ \\mu e^{-\\mu s}}{1-(1 - e^{-\\mu s})} \\\\\n",
    "&= \\dfrac{ \\mu e^{-\\mu s}}{e^{-\\mu s}} \\\\\n",
    "&= \\mu\n",
    "\\end{align*}\n",
    "$$\n",
    "\n",
    "<u> Application numérique :</u>  $h(s) = 0.2 \\, \\mathbb{1}_{s \\ge 0}$"
   ]
  },
  {
   "cell_type": "markdown",
   "metadata": {},
   "source": [
    "### Imports"
   ]
  },
  {
   "cell_type": "code",
   "execution_count": 1,
   "metadata": {},
   "outputs": [],
   "source": [
    "from tqdm import tqdm\n",
    "import numpy as np\n",
    "from scipy.integrate import odeint\n",
    "import matplotlib.pyplot as plt\n",
    "import seaborn as sns\n",
    "from sklearn.cluster import KMeans\n",
    "sns.set()\n",
    "sns.set_palette(\"hls\")"
   ]
  },
  {
   "cell_type": "markdown",
   "metadata": {},
   "source": [
    "### Graine (pour reproductibilité)"
   ]
  },
  {
   "cell_type": "code",
   "execution_count": 2,
   "metadata": {},
   "outputs": [],
   "source": [
    "seed = 2381\n",
    "rng = np.random.default_rng(seed)"
   ]
  },
  {
   "cell_type": "markdown",
   "metadata": {},
   "source": [
    "### Simulation numérique"
   ]
  },
  {
   "cell_type": "code",
   "execution_count": 3,
   "metadata": {},
   "outputs": [],
   "source": [
    "mu = 0.2\n",
    "h = lambda s : mu if s > 0 else 0\n",
    "a = 5\n",
    "b = 10"
   ]
  },
  {
   "cell_type": "code",
   "execution_count": 4,
   "metadata": {},
   "outputs": [],
   "source": [
    "Z = lambda t, tau : 1 if (tau <= t) else 0\n",
    "N = lambda a, b, t, tau : (a + (b-a) * Z(t, tau)) * t"
   ]
  },
  {
   "cell_type": "code",
   "execution_count": 5,
   "metadata": {},
   "outputs": [],
   "source": [
    "def poisson_proc(lmbda, orig, horiz, rng):\n",
    "    \"\"\"\n",
    "    génère des instants d'arrivée d'un processus de Poisson\n",
    "    lmbda: intensité\n",
    "    orig: origine des temps\n",
    "    horiz: horizon des temps\n",
    "    \"\"\"  \n",
    "    arrivals = []\n",
    "    t = orig\n",
    "    while t < horiz:\n",
    "        t = t - np.log(rng.random()) / lmbda\n",
    "        arrivals.append(t)\n",
    "    \n",
    "    return np.sort(arrivals[:-1])   "
   ]
  },
  {
   "cell_type": "code",
   "execution_count": 6,
   "metadata": {},
   "outputs": [],
   "source": [
    "def trajectory(a, b, beg, end, rng, n=1000, disp=False):\n",
    "    \"\"\"\n",
    "    affiche la trajectoire d'une observation aléatoire\n",
    "    a, b: intensités\n",
    "    beg, end: bornes des temps\n",
    "    n: nombre de points pour l'affichage\n",
    "    disp: afficher la trajectoire\n",
    "    \"\"\"\n",
    "    tau = beg + rng.exponential(1/mu) # tirer un tau aléatoire dans [beg, +inf[\n",
    "    end = max(end, 2 + np.ceil(tau))      # éloigner l'horizon si tau trop grand\n",
    "    # générer les temps d'arrivée avant et après tau\n",
    "    arrivals = np.concatenate((poisson_proc(a, beg, tau, rng),\n",
    "                               poisson_proc(b, tau, end, rng)))\n",
    "    \n",
    "    if disp:\n",
    "        plt.figure(figsize=(10, 5))\n",
    "        plt.step(arrivals, np.arange(arrivals.size))\n",
    "        plt.axvline(tau, linestyle=':', c='olivedrab')\n",
    "        plt.xticks(list(plt.xticks()[0]) + [tau]) # ajouter 1 tick à l'abscisse tau\n",
    "        plt.xlim(beg, max(end, tau))\n",
    "        plt.title(fr\"Une trajectoire avec $\\tau =${tau:.2f}\")\n",
    "        plt.ylabel(r\"$N(t)$\")\n",
    "        plt.xlabel(r\"$t$\")\n",
    "        plt.show()\n",
    "    \n",
    "    return beg, end, arrivals, tau"
   ]
  },
  {
   "cell_type": "code",
   "execution_count": 7,
   "metadata": {},
   "outputs": [],
   "source": [
    "beg, end = 0, 10"
   ]
  },
  {
   "cell_type": "code",
   "execution_count": 8,
   "metadata": {},
   "outputs": [
    {
     "data": {
      "image/png": "[encoded data removed]",
      "text/plain": [
       "<Figure size 720x360 with 1 Axes>"
      ]
     },
     "metadata": {},
     "output_type": "display_data"
    }
   ],
   "source": [
    "beg, end, arrivals, tau = trajectory(a, b, beg, end, rng, disp=True)"
   ]
  },
  {
   "cell_type": "code",
   "execution_count": 9,
   "metadata": {},
   "outputs": [
    {
     "data": {
      "image/png": "[encoded data removed]",
      "text/plain": [
       "<Figure size 1440x72 with 1 Axes>"
      ]
     },
     "metadata": {},
     "output_type": "display_data"
    }
   ],
   "source": [
    "plt.figure(figsize=(20, 1))\n",
    "plt.eventplot(arrivals[arrivals < tau].flatten(), linelengths=2, linestyles='dashed')\n",
    "plt.eventplot(arrivals[arrivals > tau].flatten(), linelengths=2, linestyles='solid')\n",
    "plt.axvline(tau, c='k')\n",
    "plt.xticks(list(plt.xticks()[0]) + [tau]) # ajouter 1 tick à l'abscisse tau\n",
    "plt.xlim(beg, end)\n",
    "plt.ylim(0, 2)\n",
    "plt.xlabel(r\"$t$\")\n",
    "plt.title(\"Instants d'arrivée\", fontsize=18)\n",
    "plt.show()"
   ]
  },
  {
   "cell_type": "markdown",
   "metadata": {},
   "source": [
    "### Résolution par approche théorique"
   ]
  },
  {
   "cell_type": "markdown",
   "metadata": {},
   "source": [
    "On peut montrer que (cf. exercice 2.2 — Détection de changement de régime du poly) :\n",
    "- les instants de saut de $Z$ sont ceux de $N$\n",
    "-\n",
    "$$\\forall t \\in ]T_n, T_{n+1}[, \\quad \\hat{Z}(t) = \\hat{Z}(T_n) + \\int_{T_n}^t [h(s) - (b-a)\\hat{Z}(s)] (1 - \\hat{Z}(s)) \\, \\mathrm{d} s$$\n",
    "d'où\n",
    "$$\\forall t \\in ]T_n, T_{n+1}[, \\quad \\hat{Z}'(t) = [h(t) - (b-a)\\hat{Z}(t)] (1 - \\hat{Z}(t))$$\n",
    "-\n",
    "$$\\hat{Z}(T_n) - \\hat{Z}(T_n^-) = \\frac{(b-a) \\hat{Z}(T_n^-) (1-\\hat{Z}(T_n^-))}{a + (b-a) \\hat{Z}(T_n^-)}$$"
   ]
  },
  {
   "cell_type": "code",
   "execution_count": 10,
   "metadata": {},
   "outputs": [],
   "source": [
    "derivative = lambda z, t : (h(t) - (b-a)*z) * (1-z)"
   ]
  },
  {
   "cell_type": "code",
   "execution_count": 11,
   "metadata": {},
   "outputs": [],
   "source": [
    "def flatten_to_array(l):\n",
    "    t = []\n",
    "    for e in l:\n",
    "        if isinstance(e, float):\n",
    "            t.append(e)\n",
    "        if isinstance(e, np.ndarray):\n",
    "            t += e.tolist()\n",
    "    return np.array(t)"
   ]
  },
  {
   "cell_type": "code",
   "execution_count": 12,
   "metadata": {},
   "outputs": [],
   "source": [
    "def saut(ZTn_, a, b):\n",
    "    return (b-a) * ZTn_ * (1 - ZTn_) / (a + (b-a) * ZTn_)"
   ]
  },
  {
   "cell_type": "code",
   "execution_count": 13,
   "metadata": {},
   "outputs": [],
   "source": [
    "def Z_hat(arrivals, beg, end):\n",
    "    \"\"\"\n",
    "    calcule l'estimation Z_hat à partir de l'observation des sauts\n",
    "    \"\"\"\n",
    "    m = arrivals.size\n",
    "    ts = []     # temps\n",
    "    Z_hats = [] # valeurs de Z_hat\n",
    "    z0 = 0      # valeur initiale\n",
    "    \n",
    "    # segment [beg, T_0]\n",
    "    n_points = int(np.ceil(50 * max(a,b) * arrivals[0]))\n",
    "    t = np.linspace(0, arrivals[0], n_points, endpoint=False)\n",
    "    ts.append(t)\n",
    "    Z_hats.append(odeint(derivative, z0, t).ravel())\n",
    "    ts.append(arrivals[0]) # rajouter ce temps exclu ci-dessus\n",
    "    Z_hats.append(Z_hats[-1][-1] + saut(Z_hats[-1][-1], a, b)) # prendre pour ZTn_ la dernière valeur estimée\n",
    "    \n",
    "    for n in range(m-1):\n",
    "        # segment [T_n, T_{n+1}]\n",
    "        n_points = int(np.ceil(50 * max(a,b) * (arrivals[n+1] - arrivals[n])))\n",
    "        t = np.linspace(arrivals[n], arrivals[n+1], n_points, endpoint=False)\n",
    "        ts.append(t)\n",
    "        Z_hats.append(odeint(derivative, Z_hats[-1], t).ravel())\n",
    "        ts.append(arrivals[n+1])\n",
    "        Z_hats.append(Z_hats[-1][-1] + saut(Z_hats[-1][-1], a, b))\n",
    "        \n",
    "    # segment [T_{m-1}, end]\n",
    "    n_points = int(np.ceil(50 * max(a,b) * (end - arrivals[-1])))\n",
    "    t = np.linspace(arrivals[-1], end, n_points, endpoint=True)\n",
    "    ts.append(t)\n",
    "    Z_hats.append(odeint(derivative, Z_hats[-1], t).ravel())\n",
    "    \n",
    "    return flatten_to_array(ts), flatten_to_array(Z_hats)"
   ]
  },
  {
   "cell_type": "code",
   "execution_count": 14,
   "metadata": {},
   "outputs": [],
   "source": [
    "ts, Z_hats = Z_hat(arrivals, beg, end)"
   ]
  },
  {
   "cell_type": "code",
   "execution_count": 15,
   "metadata": {},
   "outputs": [
    {
     "data": {
      "image/png": "[encoded data removed]",
      "text/plain": [
       "<Figure size 720x360 with 1 Axes>"
      ]
     },
     "metadata": {},
     "output_type": "display_data"
    }
   ],
   "source": [
    "plt.figure(figsize=(10, 5))\n",
    "plt.plot(ts, Z_hats)\n",
    "plt.axvline(tau, linestyle=':', c='olivedrab')\n",
    "plt.xticks(list(plt.xticks()[0]) + [tau]) # ajouter 1 tick à l'abscisse tau\n",
    "plt.xlim(beg, end)\n",
    "plt.title(fr\"$\\hat{{Z}}$ avec $\\tau =${tau:.2f}\")\n",
    "plt.ylabel(r'$\\hat{Z}(t)$')\n",
    "plt.xlabel(\"t\")\n",
    "plt.show()"
   ]
  },
  {
   "cell_type": "markdown",
   "metadata": {},
   "source": [
    "### Résolution par approche par Machine Learning : K-means"
   ]
  },
  {
   "cell_type": "markdown",
   "metadata": {},
   "source": [
    "On introduit les features \"temps d'arrivée\" et \"temps d'attente\" pour chaque arrivée.\n",
    "\n",
    "Puis on effectue un $k$-means avec $k=2$ pour tenter de séparer les 2 sous-processus."
   ]
  },
  {
   "cell_type": "code",
   "execution_count": 16,
   "metadata": {},
   "outputs": [
    {
     "data": {
      "image/png": "[encoded data removed]",
      "text/plain": [
       "<Figure size 864x360 with 1 Axes>"
      ]
     },
     "metadata": {},
     "output_type": "display_data"
    }
   ],
   "source": [
    "plt.figure(figsize=(12, 5))\n",
    "waits = arrivals[1:] - arrivals[:-1]\n",
    "waits_ = np.concatenate((waits, [1/b]))\n",
    "plt.scatter(arrivals, waits_)\n",
    "plt.title(\"features générées\")\n",
    "plt.xlabel(\"temps d'arrivée\")\n",
    "plt.ylabel(\"temps d'attente\")\n",
    "plt.show()"
   ]
  },
  {
   "cell_type": "code",
   "execution_count": 17,
   "metadata": {},
   "outputs": [
    {
     "data": {
      "text/plain": [
       "KMeans(n_clusters=2, n_init=30, random_state=2381)"
      ]
     },
     "execution_count": 17,
     "metadata": {},
     "output_type": "execute_result"
    }
   ],
   "source": [
    "n_clusters = 2\n",
    "features = np.stack((arrivals, waits_), axis=1)\n",
    "kmeans = KMeans(n_clusters=n_clusters, n_init=30, random_state=seed)\n",
    "kmeans.fit(features)"
   ]
  },
  {
   "cell_type": "code",
   "execution_count": 18,
   "metadata": {},
   "outputs": [
    {
     "data": {
      "image/png": "[encoded data removed]",
      "text/plain": [
       "<Figure size 864x432 with 1 Axes>"
      ]
     },
     "metadata": {},
     "output_type": "display_data"
    }
   ],
   "source": [
    "palette = sns.color_palette() # palette de couleurs\n",
    "plt.figure(figsize=(12, 6))\n",
    "for n in range(n_clusters):\n",
    "    plt.scatter(arrivals[kmeans.labels_ == n],\n",
    "                waits_[kmeans.labels_ == n],\n",
    "                color=palette[n])\n",
    "plt.title(\"séparation des 2 processus selon k-means\")\n",
    "plt.show()"
   ]
  },
  {
   "cell_type": "code",
   "execution_count": 19,
   "metadata": {},
   "outputs": [
    {
     "data": {
      "image/png": "[encoded data removed]",
      "text/plain": [
       "<Figure size 1440x72 with 1 Axes>"
      ]
     },
     "metadata": {},
     "output_type": "display_data"
    }
   ],
   "source": [
    "palette = sns.color_palette() # palette de couleurs\n",
    "#sns.set(rc={'axes.facecolor':'w', 'figure.facecolor':'w'})\n",
    "plt.figure(figsize=(20, 1))\n",
    "for n in range(n_clusters):\n",
    "    plt.eventplot(arrivals[kmeans.labels_ == n],\n",
    "                  linelengths=2,\n",
    "                  colors=palette[n])\n",
    "plt.axvline(tau, c='k')\n",
    "plt.xticks(list(plt.xticks()[0]) + [tau]) # ajouter 1 tick à l'abscisse tau\n",
    "plt.xlim(beg, end)\n",
    "plt.ylim(0, 2)\n",
    "plt.xlabel(r\"$t$\")\n",
    "plt.title(f\"Instants d'arrivée regroupés en {n_clusters} clusters\", fontsize=16)\n",
    "plt.show()"
   ]
  },
  {
   "cell_type": "markdown",
   "metadata": {},
   "source": [
    "On fait le choix arbitraire mais pas aberrant de prendre pour l'estimation de $\\tau$ le milieu du segment formé par les extremités haute et basse (respectivement) des 2 clusters."
   ]
  },
  {
   "cell_type": "code",
   "execution_count": 20,
   "metadata": {},
   "outputs": [],
   "source": [
    "# calcul des bornes pour les 2 clusters\n",
    "# (l'ordre des 2 clusters n'est pas déterministe)\n",
    "min0 = np.min(arrivals[kmeans.labels_ == 0])\n",
    "max0 = np.max(arrivals[kmeans.labels_ == 0])\n",
    "min1 = np.min(arrivals[kmeans.labels_ == 1])\n",
    "max1 = np.max(arrivals[kmeans.labels_ == 1])\n",
    "sorted_bounds = np.sort([min0, max0, min1, max1])\n",
    "\n",
    "# calcul de l'estimation de tau\n",
    "tau_kmeans = (sorted_bounds[1] + sorted_bounds[2]) / 2"
   ]
  },
  {
   "cell_type": "code",
   "execution_count": 21,
   "metadata": {},
   "outputs": [
    {
     "data": {
      "image/png": "[encoded data removed]",
      "text/plain": [
       "<Figure size 1440x72 with 1 Axes>"
      ]
     },
     "metadata": {},
     "output_type": "display_data"
    }
   ],
   "source": [
    "palette = sns.color_palette() # palette de couleurs\n",
    "#sns.set(rc={'axes.facecolor':'w', 'figure.facecolor':'w'})\n",
    "plt.figure(figsize=(20, 1))\n",
    "for n in range(n_clusters):\n",
    "    if kmeans.labels_[n] == 1:\n",
    "        plt.eventplot(arrivals[kmeans.labels_ == n],\n",
    "                      linelengths=2,\n",
    "                      colors=palette[n])\n",
    "    else:\n",
    "        plt.eventplot(arrivals[kmeans.labels_ == n],\n",
    "                      linelengths=2,\n",
    "                      colors=palette[n])\n",
    "plt.axvline(tau_kmeans, linestyle='--', c='k')\n",
    "plt.xticks(list(plt.xticks()[0]) + [tau_kmeans]) # ajouter 1 tick à l'abscisse tau_kmeans\n",
    "plt.axvline(tau, c='k')\n",
    "plt.xticks(list(plt.xticks()[0]) + [tau]) # ajouter 1 tick à l'abscisse tau\n",
    "plt.xlim(beg, end)\n",
    "plt.ylim(0, 2)\n",
    "plt.xlabel(r\"$t$\")\n",
    "plt.title(f\"Instants d'arrivée avec estimation de la séparation\", fontsize=16)\n",
    "plt.show()"
   ]
  },
  {
   "cell_type": "markdown",
   "metadata": {},
   "source": [
    "Ici on a eu de la chance avec la graine, l'estimation est plutôt très bonne."
   ]
  },
  {
   "cell_type": "markdown",
   "metadata": {},
   "source": [
    "### Analyse statistique"
   ]
  },
  {
   "cell_type": "code",
   "execution_count": 22,
   "metadata": {},
   "outputs": [],
   "source": [
    "def repeat_ests(a, b, beg, end, n_repeats, seed, method):\n",
    "    \"\"\"\n",
    "    répète des estimations du temps tau\n",
    "    \n",
    "    a, b: intensités\n",
    "    beg, end: bornes des temps\n",
    "    n_repeats: nombre de répétitions à simuler\n",
    "    seed: graine\n",
    "    method: méthode à utiliser pour l'estimation\n",
    "    \"\"\"\n",
    "    \n",
    "    # re-instancier le rng pour résultats reproduisibles sur les mêmes tirages\n",
    "    rng = np.random.default_rng(seed)\n",
    "    \n",
    "    # pour stocker les résultats\n",
    "    arrivals_l = []\n",
    "    taus_l     = []\n",
    "    est_taus_l = []\n",
    "    \n",
    "    for repeat in tqdm(range(n_repeats)):\n",
    "        beg_, end_, arrivals, tau = trajectory(a, b, beg, end, rng)\n",
    "        arrivals_l.append(arrivals)\n",
    "        taus_l.append(tau)\n",
    "    \n",
    "        if method == \"Z_hat\":\n",
    "            ts, Z_hats = Z_hat(arrivals, beg_, end_)\n",
    "            ### TODO\n",
    "            # tau_Z_hat = ...\n",
    "            \n",
    "        if method == \"kmeans\":\n",
    "            waits = arrivals[1:] - arrivals[:-1]\n",
    "            waits_ = np.concatenate((waits, [1/b]))\n",
    "\n",
    "            features = np.stack((arrivals, waits_), axis=1)\n",
    "            kmeans = KMeans(n_clusters=2, n_init=30, random_state=seed)\n",
    "            kmeans.fit(features)\n",
    "\n",
    "            min0 = np.min(arrivals[kmeans.labels_ == 0])\n",
    "            max0 = np.max(arrivals[kmeans.labels_ == 0])\n",
    "            min1 = np.min(arrivals[kmeans.labels_ == 1])\n",
    "            max1 = np.max(arrivals[kmeans.labels_ == 1])\n",
    "            sorted_bounds = np.sort([min0, max0, min1, max1])\n",
    "            tau_kmeans = (sorted_bounds[1] + sorted_bounds[2]) / 2\n",
    "            \n",
    "            est_taus_l.append(tau_kmeans)\n",
    "    \n",
    "    return taus_l, est_taus_l"
   ]
  },
  {
   "cell_type": "code",
   "execution_count": 23,
   "metadata": {},
   "outputs": [],
   "source": [
    "def stat_summary(taus_l, est_taus_l, method):\n",
    "    \"\"\"\n",
    "    affiche un résumé statistique pour l'estimation de tau\n",
    "    \n",
    "    taus_l: liste des tau générés\n",
    "    est_taus_l: liste des taus estimés\n",
    "    method: méthode de génération\n",
    "    \"\"\"\n",
    "    \n",
    "    # conversion en arrays\n",
    "    taus_arr = np.array(taus_l)\n",
    "    est_taus_arr = np.array(est_taus_l)\n",
    "    \n",
    "    # erreur\n",
    "    error = taus_arr - est_taus_arr\n",
    "    \n",
    "    print(f\"----- Méthode: {method} -----\")\n",
    "    print(f\"{len(taus_l)} estimations\")\n",
    "    print(f\"biais: {np.mean(error):.2f}\")\n",
    "    print(f\"variance: {np.var(error):.2f}\")\n",
    "    \n",
    "    # histogramme de l'erreur sur tau\n",
    "    fig = plt.figure(figsize=(10, 4))\n",
    "    plt.hist(error, bins=50)\n",
    "    plt.title(fr\"$\\tau - \\hat{{\\tau}}$ avec {method}\")\n",
    "    plt.show()"
   ]
  },
  {
   "cell_type": "code",
   "execution_count": 24,
   "metadata": {},
   "outputs": [],
   "source": [
    "a = 5\n",
    "b = 10\n",
    "beg = 0\n",
    "end = 10"
   ]
  },
  {
   "cell_type": "code",
   "execution_count": 25,
   "metadata": {},
   "outputs": [
    {
     "name": "stderr",
     "output_type": "stream",
     "text": [
      "100%|████████████████████████████████████████████████████████████████████████████████████████████████████████████████████████████████████████████| 1000/1000 [00:59<00:00, 16.93it/s]\n"
     ]
    }
   ],
   "source": [
    "taus_l, est_taus_l = repeat_ests(a, b, beg, end, 1000, seed, \"kmeans\")"
   ]
  },
  {
   "cell_type": "code",
   "execution_count": 26,
   "metadata": {},
   "outputs": [
    {
     "name": "stdout",
     "output_type": "stream",
     "text": [
      "----- Méthode: kmeans -----\n",
      "1000 estimations\n",
      "biais: -0.82\n",
      "variance: 12.05\n"
     ]
    },
    {
     "data": {
      "image/png": "[encoded data removed]",
      "text/plain": [
       "<Figure size 720x288 with 1 Axes>"
      ]
     },
     "metadata": {},
     "output_type": "display_data"
    }
   ],
   "source": [
    "stat_summary(taus_l, est_taus_l, \"kmeans\")"
   ]
  },
  {
   "cell_type": "markdown",
   "metadata": {},
   "source": [
    "<hr>"
   ]
  },
  {
   "cell_type": "markdown",
   "metadata": {},
   "source": [
    "means = arrivals[1:] - arrivals[:-1]\n",
    "pad = np.concatenate(([0],means,[0]))\n",
    "smooth = (means[:-2]+means[1:-1]+means[2:])/3\n",
    "concat = np.array([[smooth[i],arrivals[i]] for i in range(len(smooth))])\n",
    "concat.shape\n",
    "plt.plot(arrivals[:-3],smooth)"
   ]
  },
  {
   "cell_type": "markdown",
   "metadata": {},
   "source": [
    "J'ai essayé d'applanir le signal mais ça a rien donné de fou. Si l'on passe arrivals ou concat à KMeans, ça donne un truc propre genre [00000....11111] mais le tau estimé est totalement faux.\n",
    "Si on passe la moyenne ou le smoothed c'est pas tranché genre [000001001100111110111101]? ALED"
   ]
  },
  {
   "cell_type": "markdown",
   "metadata": {},
   "source": [
    "kmeans = KMeans(n_clusters=2, n_init=1, init='k-means++').fit(arrivals.reshape(-1,1))\n",
    "\n",
    "print(kmeans.labels_)\n",
    "tau_ = np.where(kmeans.labels_[:-1] != kmeans.labels_[1:])[0]\n",
    "\n",
    "plt.axvline(arrivals[tau_], linestyle=':', c='firebrick', label = r'$\\tau$ =' + str(arrivals[tau_]))\n",
    "plt.step(arrivals, kmeans.labels_)\n",
    "plt.legend()\n",
    "plt.show()"
   ]
  },
  {
   "cell_type": "markdown",
   "metadata": {},
   "source": [
    "It yields no conclusive result. However, K-means clustering is not efficient on 1D dataset and should arguably be used on multivariate data instead. "
   ]
  },
  {
   "cell_type": "code",
   "execution_count": null,
   "metadata": {},
   "outputs": [],
   "source": []
  }
 ],
 "metadata": {
  "kernelspec": {
   "display_name": "Python 3 (ipykernel)",
   "language": "python",
   "name": "python3"
  },
  "language_info": {
   "codemirror_mode": {
    "name": "ipython",
    "version": 3
   },
   "file_extension": ".py",
   "mimetype": "text/x-python",
   "name": "python",
   "nbconvert_exporter": "python",
   "pygments_lexer": "ipython3",
   "version": "3.8.13"
  }
 },
 "nbformat": 4,
 "nbformat_minor": 4
}
