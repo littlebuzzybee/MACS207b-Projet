{
 "cells": [
  {
   "cell_type": "markdown",
   "metadata": {},
   "source": [
    "# **Projet MACS207b**  - Filtrage\n",
    "- Rendu le 10 juin 2022"
   ]
  },
  {
   "cell_type": "markdown",
   "metadata": {},
   "source": [
    "**Timothée LY, Louis PERSONNAZ**"
   ]
  },
  {
   "cell_type": "markdown",
   "metadata": {},
   "source": [
    "# 1 - Présentation du problème"
   ]
  },
  {
   "cell_type": "markdown",
   "metadata": {},
   "source": [
    "**Hypothèses :**\n",
    "\n",
    "2 processus de Poisson indépendants $N_a$ et $N_b$, on observe $N_a$ puis $N_b$ après $\\tau$\n",
    "- $\\tau \\sim \\mathcal{E}(\\mu)$ avec $\\mu = 0.2$ et $\\tau$ indépendant de $N_a$, $N_b$\n",
    "- $a = 5$ et $b = 10$"
   ]
  },
  {
   "cell_type": "markdown",
   "metadata": {},
   "source": [
    "**But :** on veut estimer $\\tau$ à travers l'observation des instants de saut du processus ponctuel \"concaténé\" $N$"
   ]
  },
  {
   "cell_type": "markdown",
   "metadata": {},
   "source": [
    "**Notations :** $\\tau$ a pour densité $f$ et fonction de répartition $F$ "
   ]
  },
  {
   "cell_type": "markdown",
   "metadata": {},
   "source": [
    "# 2 - Résolution et implémentation"
   ]
  },
  {
   "cell_type": "markdown",
   "metadata": {},
   "source": [
    "On calcule la fonction $h$ donnée par :\n",
    "$$h(s) = \\dfrac{f(s)}{1-F(s)}$$\n",
    "\n",
    "Pour une loi exponentielle d'intensité $\\mu$: \n",
    "\n",
    "$\\forall s \\in \\mathbb{R}, \\ f(s) = \\mu e^{-\\mu s} \\mathbb{1}_{\\mathbb{R}^+}(s)$\n",
    "\n",
    "$\\forall s \\in \\mathbb{R}, \\ F(s) = (1 - e^{-\\mu s}) \\mathbb{1}_{\\mathbb{R}^+}(s)$\n",
    "\n",
    "d'où l'on tire\n",
    "\n",
    "$$\n",
    "\\begin{align*}\n",
    "\\forall s \\in \\mathbb{R}^+, \\quad h(s)\n",
    "&= \\dfrac{ \\mu e^{-\\mu s}}{1-(1 - e^{-\\mu s})} \\\\\n",
    "&= \\dfrac{ \\mu e^{-\\mu s}}{e^{-\\mu s}} \\\\\n",
    "&= \\mu\n",
    "\\end{align*}\n",
    "$$\n",
    "\n",
    "<u> Application numérique :</u>  $h(s) = 0.2 \\, \\mathbb{1}_{s \\ge 0}$"
   ]
  },
  {
   "cell_type": "markdown",
   "metadata": {},
   "source": [
    "### Imports"
   ]
  },
  {
   "cell_type": "code",
   "execution_count": 1,
   "metadata": {},
   "outputs": [],
   "source": [
    "import numpy as np\n",
    "from scipy.integrate import odeint\n",
    "import matplotlib.pyplot as plt\n",
    "import seaborn as sns\n",
    "sns.set()"
   ]
  },
  {
   "cell_type": "code",
   "execution_count": 2,
   "metadata": {},
   "outputs": [],
   "source": [
    "mu = 0.2\n",
    "h = lambda s : mu if s > 0 else 0\n",
    "a = 5\n",
    "b = 10"
   ]
  },
  {
   "cell_type": "code",
   "execution_count": 3,
   "metadata": {},
   "outputs": [],
   "source": [
    "def poisson_proc(lmbda, beg, T, seed):\n",
    "    \"\"\"\n",
    "    génère des instants d'arrivée d'un processus de Poisson\n",
    "    lmbda: intensité\n",
    "    beg: origine des temps\n",
    "    T: horizon des temps\n",
    "    \"\"\"\n",
    "    if T < beg : return []\n",
    "    rng = np.random.default_rng(seed)\n",
    "    k = rng.poisson(lmbda * T)\n",
    "    arrivals = rng.uniform(beg, T, k)\n",
    "    \n",
    "    return np.sort(arrivals)   "
   ]
  },
  {
   "cell_type": "code",
   "execution_count": 4,
   "metadata": {},
   "outputs": [],
   "source": [
    "tau_dist = lambda rng : rng.exponential(1/mu)\n",
    "\n",
    "Z = lambda t, tau : 1 if (tau <= t) else 0\n",
    "\n",
    "N = lambda a, b, t, tau : (a + (b-a) * Z(t, tau)) * t"
   ]
  },
  {
   "cell_type": "code",
   "execution_count": 5,
   "metadata": {},
   "outputs": [],
   "source": [
    "def trajectory(n, a, b, seed, beg=0, end=10):\n",
    "    \"\"\"\n",
    "    affiche la trajectoire d'une observation aléatoire\n",
    "    n: nombre de points pour l'affichage\n",
    "    a, b: intensités\n",
    "    beg, end: bornes des temps\n",
    "    \"\"\"\n",
    "    rng = np.random.default_rng(seed) # initialiser le rng\n",
    "    tau = tau_dist(rng)               # tirer un tau aléatoire\n",
    "    # générer les temps d'arrivée avant et après tau\n",
    "    arrivals = np.concatenate((poisson_proc(a, beg, tau, seed),\n",
    "                               poisson_proc(a, tau, end, seed)))\n",
    "    \n",
    "    plt.figure(figsize=(10, 5))\n",
    "    plt.step(arrivals, np.arange(arrivals.size))\n",
    "    plt.axvline(tau, linestyle=':', c='firebrick')\n",
    "    plt.xticks(list(plt.xticks()[0]) + [tau]) # ajouter 1 tick à l'abscisse tau\n",
    "    plt.xlim(beg, end)\n",
    "    plt.title(fr\"Trajectoire pour $\\tau =${tau:.2f}\")\n",
    "    plt.ylabel(r\"$N(t)$\")\n",
    "    plt.xlabel(r\"$t$\")\n",
    "    plt.show()\n",
    "    \n",
    "    return arrivals, tau"
   ]
  },
  {
   "cell_type": "code",
   "execution_count": 6,
   "metadata": {},
   "outputs": [
    {
     "data": {
      "image/png": "[encoded data removed]",
      "text/plain": [
       "<Figure size 720x360 with 1 Axes>"
      ]
     },
     "metadata": {},
     "output_type": "display_data"
    }
   ],
   "source": [
    "n = 1000\n",
    "beg, end = 0, 10\n",
    "arrivals, tau = trajectory(n, a, b, 1789)"
   ]
  },
  {
   "cell_type": "markdown",
   "metadata": {},
   "source": [
    "On peut montrer que (cf. exercice 2.2 — Détection de changement de régime du poly) :\n",
    "- les instants de saut de Z sont ceux de N\n",
    "-\n",
    "$$\\forall t \\in ]T_n, T_{n+1}[, \\quad \\hat{Z}(t) = \\hat{Z}(T_n) + \\int_{T_n}^t [h(s) - (b-a)\\hat{Z}(s)] (1 - \\hat{Z}(s)) \\, \\mathrm{d} s$$\n",
    "d'où\n",
    "$$\\forall t \\in ]T_n, T_{n+1}[, \\quad \\hat{Z}'(t) = [h(t) - (b-a)\\hat{Z}(t)] (1 - \\hat{Z}(t))$$\n",
    "-\n",
    "$$\\hat{Z}(T_n) - \\hat{Z}(T_n^-) = \\frac{(b-a) \\hat{Z}(T_n^-) (1-\\hat{Z}(T_n^-))}{a + (b-a) \\hat{Z}(T_n^-)}$$"
   ]
  },
  {
   "cell_type": "code",
   "execution_count": 7,
   "metadata": {},
   "outputs": [],
   "source": [
    "derivative = lambda z, t : (h(t) - (b-a)*z) * (1-z)"
   ]
  },
  {
   "cell_type": "code",
   "execution_count": 8,
   "metadata": {},
   "outputs": [],
   "source": [
    "def flatten_to_array(l):\n",
    "    t = []\n",
    "    for e in l:\n",
    "        if isinstance(e, float):\n",
    "            t.append(e)\n",
    "        if isinstance(e, np.ndarray):\n",
    "            t += e.tolist()\n",
    "    return np.array(t)"
   ]
  },
  {
   "cell_type": "code",
   "execution_count": 9,
   "metadata": {},
   "outputs": [],
   "source": [
    "def saut(ZTn_, a, b):\n",
    "    return (b-a) * ZTn_ * (1 - ZTn_) / (a + (b-a) * ZTn_)"
   ]
  },
  {
   "cell_type": "code",
   "execution_count": 10,
   "metadata": {},
   "outputs": [],
   "source": [
    "def Z_hat(arrivals, beg=0, end=10):\n",
    "    \"\"\"\n",
    "    calcule l'estimation de Z à partir de l'observation des sauts\n",
    "    \"\"\"\n",
    "    m = arrivals.size\n",
    "    ts = []     # temps\n",
    "    Z_hats = [] # valeurs de Z_hat\n",
    "    z0 = 0      # valeur initiale\n",
    "    \n",
    "    # segment [beg, T_0]\n",
    "    n_points = int(np.ceil(100 * max(a,b) * arrivals[0]))\n",
    "    t = np.linspace(0, arrivals[0], n_points, endpoint=False)\n",
    "    ts.append(t)\n",
    "    Z_hats.append(odeint(derivative, z0, t).ravel())\n",
    "    ts.append(arrivals[0]) # rajouter ce temps exclu ci-dessus\n",
    "    Z_hats.append(saut(Z_hats[-1][-1], a, b)) # prendre pour ZTn_ la dernière valeur estimée\n",
    "    \n",
    "    for n in range(m-1):\n",
    "        # segment [T_n, T_{n+1}]\n",
    "        n_points = int(np.ceil(20 * max(a,b) * (arrivals[n+1] - arrivals[n])))\n",
    "        t = np.linspace(arrivals[n], arrivals[n+1], n_points, endpoint=False)\n",
    "        ts.append(t)\n",
    "        Z_hats.append(odeint(derivative, Z_hats[-1], t).ravel())\n",
    "        ts.append(arrivals[n+1])\n",
    "        Z_hats.append(saut(Z_hats[-1][-1], a, b))\n",
    "        \n",
    "    # segment [T_{m-1}, end]\n",
    "    n_points = int(np.ceil(20 * max(a,b) * (end - arrivals[-1])))\n",
    "    t = np.linspace(arrivals[-1], end, n_points, endpoint=True)\n",
    "    ts.append(t)\n",
    "    Z_hats.append(odeint(derivative, Z_hats[-1], t).ravel())\n",
    "    \n",
    "    return flatten_to_array(ts), flatten_to_array(Z_hats)"
   ]
  },
  {
   "cell_type": "code",
   "execution_count": 11,
   "metadata": {},
   "outputs": [],
   "source": [
    "ts, Z_hats = Z_hat(arrivals)"
   ]
  },
  {
   "cell_type": "code",
   "execution_count": 12,
   "metadata": {},
   "outputs": [
    {
     "data": {
      "image/png": "[encoded data removed]",
      "text/plain": [
       "<Figure size 720x360 with 1 Axes>"
      ]
     },
     "metadata": {},
     "output_type": "display_data"
    }
   ],
   "source": [
    "plt.figure(figsize=(10, 5))\n",
    "plt.plot(ts, Z_hats)\n",
    "plt.axvline(tau, linestyle=':', c='firebrick')\n",
    "plt.xticks(list(plt.xticks()[0]) + [tau]) # ajouter 1 tick à l'abscisse tau\n",
    "plt.xlim(beg, end)\n",
    "plt.title(fr\"$\\hat{{Z}}$ pour $\\tau =${tau:.2f}\")\n",
    "plt.ylabel(r'$\\hat{Z}(t)$')\n",
    "plt.xlabel(\"t\")\n",
    "plt.show()"
   ]
  }
 ],
 "metadata": {
  "kernelspec": {
   "display_name": "Python 3 (ipykernel)",
   "language": "python",
   "name": "python3"
  },
  "language_info": {
   "codemirror_mode": {
    "name": "ipython",
    "version": 3
   },
   "file_extension": ".py",
   "mimetype": "text/x-python",
   "name": "python",
   "nbconvert_exporter": "python",
   "pygments_lexer": "ipython3",
   "version": "3.8.13"
  }
 },
 "nbformat": 4,
 "nbformat_minor": 4
}
