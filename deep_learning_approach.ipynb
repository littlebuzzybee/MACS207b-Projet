{
 "cells": [
  {
   "cell_type": "markdown",
   "id": "27119d3f-dcb1-41f8-80a1-547e2c7463a2",
   "metadata": {},
   "source": [
    "# Poisson process filtering - Deep Learning approach"
   ]
  },
  {
   "cell_type": "markdown",
   "id": "ff072d83-a6c4-4bd3-aafa-a51e33cb8e90",
   "metadata": {},
   "source": [
    "## Problem and notations"
   ]
  },
  {
   "cell_type": "markdown",
   "id": "3f866c56-b345-4909-b59b-f98a47977b91",
   "metadata": {},
   "source": [
    "Let $N_a$ and $N_b$ be 2 independant [Poisson point processes](https://en.wikipedia.org/wiki/Poisson_point_process) of respective intensities $a > 0$ and $b > 0$.\n",
    "\n",
    "Let $\\tau \\sim \\mathcal{E}(\\mu)$ independant of $N_a$ and $N_b$, where $\\mu > 0$.\n",
    "\n",
    "Let $N$ be the \"concatenated\" process of the of $N_a$ before $\\tau$, and $N_b$ after $\\tau$:\n",
    "\n",
    "$$\\forall t \\ge 0, \\, N(t) = \\mathcal{1}_{\\tau < t} \\, N_a(t) + \\mathcal{1}_{\\tau > t} \\, N_b(t)$$"
   ]
  },
  {
   "cell_type": "markdown",
   "id": "67247918-a2ef-4cfc-8084-b814c1ebaa29",
   "metadata": {},
   "source": [
    "## Imports"
   ]
  },
  {
   "cell_type": "code",
   "execution_count": 103,
   "id": "5775cc3b-85a2-4b3d-851c-97a65934e3c9",
   "metadata": {},
   "outputs": [],
   "source": [
    "from tqdm import tqdm\n",
    "import tensorflow as tf\n",
    "import numpy as np\n",
    "import matplotlib.pyplot as plt\n",
    "import seaborn as sns\n",
    "sns.set()\n",
    "sns.set_palette(\"hls\")\n",
    "import tensorflow.keras as keras\n",
    "from tensorflow.keras.utils import plot_model\n",
    "from tensorflow.keras.layers import Reshape, Input, Dense, LSTM, GRU, SimpleRNN\n",
    "from tensorflow.keras.optimizers import Adam"
   ]
  },
  {
   "cell_type": "code",
   "execution_count": 2,
   "id": "65542614-96ad-4b32-a117-e44ef52f6891",
   "metadata": {},
   "outputs": [
    {
     "name": "stderr",
     "output_type": "stream",
     "text": [
      "2022-08-02 18:09:53.667909: W tensorflow/stream_executor/platform/default/dso_loader.cc:64] Could not load dynamic library 'libcuda.so.1'; dlerror: libcuda.so.1: cannot open shared object file: No such file or directory\n",
      "2022-08-02 18:09:53.667964: W tensorflow/stream_executor/cuda/cuda_driver.cc:269] failed call to cuInit: UNKNOWN ERROR (303)\n",
      "2022-08-02 18:09:53.668006: I tensorflow/stream_executor/cuda/cuda_diagnostics.cc:156] kernel driver does not appear to be running on this host (deepthought): /proc/driver/nvidia/version does not exist\n"
     ]
    },
    {
     "data": {
      "text/plain": [
       "[PhysicalDevice(name='/physical_device:CPU:0', device_type='CPU')]"
      ]
     },
     "execution_count": 2,
     "metadata": {},
     "output_type": "execute_result"
    }
   ],
   "source": [
    "tf.config.list_physical_devices()"
   ]
  },
  {
   "cell_type": "markdown",
   "id": "02d56734-37e1-4186-b848-b01bf1413c73",
   "metadata": {},
   "source": [
    "## Process generating"
   ]
  },
  {
   "cell_type": "code",
   "execution_count": 3,
   "id": "578d9188-50c3-4aca-aabc-b2deb1daaec7",
   "metadata": {},
   "outputs": [],
   "source": [
    "# Poisson model parameters\n",
    "a = 5    # 1st intensity\n",
    "b = 10   # 2nd intensity\n",
    "beg = 0  # beginning of times\n",
    "end = 10 # end of times\n",
    "mu = 0.2 # parameter of the exponential distribution"
   ]
  },
  {
   "cell_type": "code",
   "execution_count": 4,
   "id": "d6633460-3384-45b2-8b4a-7db9f20735c4",
   "metadata": {},
   "outputs": [
    {
     "name": "stdout",
     "output_type": "stream",
     "text": [
      "The expected value of tau is 5.0\n"
     ]
    }
   ],
   "source": [
    "print(f\"The expected value of tau is {1/mu:.1f}\")"
   ]
  },
  {
   "cell_type": "code",
   "execution_count": 5,
   "id": "947d511a-52f8-4bf5-adeb-fcf515fece5b",
   "metadata": {},
   "outputs": [],
   "source": [
    "def poisson_proc(lmbda, orig, horiz, rng):\n",
    "    \"\"\"\n",
    "    Generates arrivals of a point Poisson process\n",
    "    \"\"\"\n",
    "    arrivals = []\n",
    "    t = orig\n",
    "    while t < horiz:\n",
    "        t = t - np.log(rng.random()) / lmbda\n",
    "        arrivals.append(t)\n",
    "    \n",
    "    return np.sort(arrivals[:-1])   "
   ]
  },
  {
   "cell_type": "code",
   "execution_count": 6,
   "id": "2e6b1440-fdb4-4164-b450-7ccb3c3758ee",
   "metadata": {},
   "outputs": [],
   "source": [
    "MAX_ARRIVALS = 128 "
   ]
  },
  {
   "cell_type": "code",
   "execution_count": 46,
   "id": "04c775e3-8a87-4457-b653-dbdee296ade5",
   "metadata": {},
   "outputs": [],
   "source": [
    "def trajectory(a, b, mu, beg, end, rng):\n",
    "    \"\"\"\n",
    "    Generates concatenated processes arrivals\n",
    "    \"\"\"\n",
    "    tau = beg + rng.exponential(1/mu)\n",
    "    while tau > end: # force sampling of tau in (beg, end)\n",
    "        tau = beg + rng.exponential(1/mu)\n",
    "    arrivals = np.concatenate((poisson_proc(a, beg, tau, rng),\n",
    "                               poisson_proc(b, tau, end, rng)))\n",
    "    arrivals = arrivals[:MAX_ARRIVALS]                                        # trim\n",
    "    arrivals = np.pad(arrivals, (0, MAX_ARRIVALS-arrivals.size), mode='edge') # pad\n",
    "    return arrivals, tau"
   ]
  },
  {
   "cell_type": "code",
   "execution_count": 79,
   "id": "64465b0f-575e-41ae-91da-41dbf6003920",
   "metadata": {},
   "outputs": [],
   "source": [
    "# setting the seed for reproducibility\n",
    "seed = 2022\n",
    "rng = np.random.default_rng(seed)"
   ]
  },
  {
   "cell_type": "markdown",
   "id": "ebc33e72-88d9-47ed-820f-f9f4d1532be5",
   "metadata": {},
   "source": [
    "## Estimating $\\tau$"
   ]
  },
  {
   "cell_type": "code",
   "execution_count": 80,
   "id": "ee893d24-b656-4e8c-bc0f-b16b42e84fc5",
   "metadata": {},
   "outputs": [],
   "source": [
    "# helper functions and constants for all models\n",
    "\n",
    "NB_TRAIN_SAMPLES = 2**15\n",
    "\n",
    "def error(y_true, y_pred):\n",
    "    return y_true - y_pred\n",
    "\n",
    "def generate_training_processes(nb_samples, a, b, mu, beg, end, rng):\n",
    "    \"\"\"\n",
    "    Generates ground-truth concatenated processes for training\n",
    "    \"\"\"\n",
    "    X = np.empty((nb_samples, MAX_ARRIVALS))\n",
    "    y = np.empty((nb_samples,))\n",
    "    for n in range(nb_samples):\n",
    "        arrivals, tau = trajectory(a, b, mu, beg, end, rng)\n",
    "        X[n] = arrivals\n",
    "        y[n] = tau\n",
    "    return X, y"
   ]
  },
  {
   "cell_type": "code",
   "execution_count": 81,
   "id": "e8ace692-6e03-47e1-a248-577893b88410",
   "metadata": {},
   "outputs": [],
   "source": [
    "X, y = generate_training_processes(NB_TRAIN_SAMPLES, a, b, mu, beg, end, rng)"
   ]
  },
  {
   "cell_type": "markdown",
   "id": "b7ba7a84-c5bc-47e1-ae68-f20bf66d83bb",
   "metadata": {},
   "source": [
    "### Fully-connected net"
   ]
  },
  {
   "cell_type": "code",
   "execution_count": 94,
   "id": "3df65d29-7ac9-4079-889a-244039599e67",
   "metadata": {},
   "outputs": [],
   "source": [
    "input_  = Input(shape=(MAX_ARRIVALS,), name=\"input\")\n",
    "fc1     = Dense(64, name=\"fc1\", activation=\"elu\")\n",
    "fc2     = Dense(32, name=\"fc2\", activation=\"elu\")\n",
    "fc3     = Dense(16, name=\"fc3\", activation=\"elu\")\n",
    "fc4     = Dense(8,  name=\"fc5\", activation=\"elu\")\n",
    "fc5     = Dense(4,  name=\"fc6\", activation=\"elu\")\n",
    "fc6     = Dense(2,  name=\"fc7\", activation=\"elu\")\n",
    "output_ = Dense(1, name=\"output\")\n",
    "fc_m    = keras.Sequential([input_, fc1, fc2, fc3, fc4, fc5, fc6, output_], name='fully_connected')"
   ]
  },
  {
   "cell_type": "code",
   "execution_count": 95,
   "id": "e912744e-081d-4dae-ae29-31db80942d91",
   "metadata": {},
   "outputs": [
    {
     "name": "stdout",
     "output_type": "stream",
     "text": [
      "Model: \"fully_connected\"\n",
      "_________________________________________________________________\n",
      " Layer (type)                Output Shape              Param #   \n",
      "=================================================================\n",
      " fc1 (Dense)                 (None, 64)                8256      \n",
      "                                                                 \n",
      " fc2 (Dense)                 (None, 32)                2080      \n",
      "                                                                 \n",
      " fc3 (Dense)                 (None, 16)                528       \n",
      "                                                                 \n",
      " fc5 (Dense)                 (None, 8)                 136       \n",
      "                                                                 \n",
      " fc6 (Dense)                 (None, 4)                 36        \n",
      "                                                                 \n",
      " fc7 (Dense)                 (None, 2)                 10        \n",
      "                                                                 \n",
      " output (Dense)              (None, 1)                 3         \n",
      "                                                                 \n",
      "=================================================================\n",
      "Total params: 11,049\n",
      "Trainable params: 11,049\n",
      "Non-trainable params: 0\n",
      "_________________________________________________________________\n"
     ]
    }
   ],
   "source": [
    "fc_m.summary()"
   ]
  },
  {
   "cell_type": "code",
   "execution_count": 96,
   "id": "1528ade6-2b66-454a-bad3-e87828dc1133",
   "metadata": {},
   "outputs": [
    {
     "data": {
      "image/png": "[encoded data removed]",
      "text/plain": [
       "<IPython.core.display.Image object>"
      ]
     },
     "execution_count": 96,
     "metadata": {},
     "output_type": "execute_result"
    }
   ],
   "source": [
    "plot_model(fc_m,\n",
    "           rankdir=\"LR\",\n",
    "           show_shapes=True,\n",
    "           show_dtype=True,\n",
    "           show_layer_activations=True,\n",
    "           to_file=\"fully_connected.png\")"
   ]
  },
  {
   "cell_type": "code",
   "execution_count": 97,
   "id": "d49bf822-e32d-46a1-b2c6-e1a20648b8b3",
   "metadata": {},
   "outputs": [],
   "source": [
    "fc_m.compile(optimizer=\"adam\",\n",
    "             loss=\"mse\",\n",
    "             metrics=[error])"
   ]
  },
  {
   "cell_type": "code",
   "execution_count": 98,
   "id": "b1f36d13-1c1e-4437-aa06-b4a25e7ccd81",
   "metadata": {},
   "outputs": [
    {
     "name": "stdout",
     "output_type": "stream",
     "text": [
      "Epoch 1/20\n",
      "256/256 [==============================] - 1s 2ms/step - loss: 1.4737 - error: -0.0044\n",
      "Epoch 2/20\n",
      "256/256 [==============================] - 0s 2ms/step - loss: 1.2253 - error: 7.5767e-04\n",
      "Epoch 3/20\n",
      "256/256 [==============================] - 0s 2ms/step - loss: 1.1836 - error: 0.0020\n",
      "Epoch 4/20\n",
      "256/256 [==============================] - 0s 2ms/step - loss: 1.1530 - error: 6.1121e-04\n",
      "Epoch 5/20\n",
      "256/256 [==============================] - 0s 2ms/step - loss: 1.1406 - error: 8.6917e-04\n",
      "Epoch 6/20\n",
      "256/256 [==============================] - 0s 2ms/step - loss: 1.1377 - error: 0.0018\n",
      "Epoch 7/20\n",
      "256/256 [==============================] - 0s 1ms/step - loss: 1.1267 - error: 0.0017\n",
      "Epoch 8/20\n",
      "256/256 [==============================] - 0s 1ms/step - loss: 1.1257 - error: 0.0018\n",
      "Epoch 9/20\n",
      "256/256 [==============================] - 0s 1ms/step - loss: 1.1276 - error: 0.0016\n",
      "Epoch 10/20\n",
      "256/256 [==============================] - 0s 2ms/step - loss: 1.1215 - error: 0.0014\n",
      "Epoch 11/20\n",
      "256/256 [==============================] - 0s 2ms/step - loss: 1.1114 - error: 0.0013\n",
      "Epoch 12/20\n",
      "256/256 [==============================] - 0s 1ms/step - loss: 1.1062 - error: 0.0014\n",
      "Epoch 13/20\n",
      "256/256 [==============================] - 0s 2ms/step - loss: 1.1018 - error: 0.0014\n",
      "Epoch 14/20\n",
      "256/256 [==============================] - 0s 1ms/step - loss: 1.0956 - error: 0.0011\n",
      "Epoch 15/20\n",
      "256/256 [==============================] - 0s 2ms/step - loss: 1.0899 - error: 9.5012e-04\n",
      "Epoch 16/20\n",
      "256/256 [==============================] - 0s 2ms/step - loss: 1.0847 - error: 8.3896e-04\n",
      "Epoch 17/20\n",
      "256/256 [==============================] - 0s 2ms/step - loss: 1.0815 - error: 0.0011\n",
      "Epoch 18/20\n",
      "256/256 [==============================] - 0s 2ms/step - loss: 1.0798 - error: 0.0010\n",
      "Epoch 19/20\n",
      "256/256 [==============================] - 0s 2ms/step - loss: 1.0775 - error: 0.0011\n",
      "Epoch 20/20\n",
      "256/256 [==============================] - 0s 2ms/step - loss: 1.0755 - error: 0.0011\n"
     ]
    }
   ],
   "source": [
    "# train the model\n",
    "history = fc_m.fit(X,\n",
    "                   y,\n",
    "                   epochs=20,\n",
    "                   batch_size=128,\n",
    "                   verbose=1,\n",
    "                   shuffle=False)"
   ]
  },
  {
   "cell_type": "markdown",
   "id": "dfdd7a06-d567-43d7-9190-a7860d0ad5dc",
   "metadata": {},
   "source": [
    "### LSTM net"
   ]
  },
  {
   "cell_type": "code",
   "execution_count": 88,
   "id": "54c51aa0-d4e4-4dbe-b4f3-e6b042f02f74",
   "metadata": {},
   "outputs": [],
   "source": [
    "input_  = Input(shape=(MAX_ARRIVALS,), name=\"input\")\n",
    "reshape = Reshape((MAX_ARRIVALS, 1), name=\"reshape\")\n",
    "lstm    = LSTM(16, name=\"lstm\")\n",
    "fc1     = Dense(8, name=\"fc1\", activation=\"elu\")\n",
    "fc2     = Dense(4, name=\"fc2\", activation=\"elu\")\n",
    "fc3     = Dense(2, name=\"fc3\", activation=\"elu\")\n",
    "output_ = Dense(1, name=\"output\")\n",
    "lstm_m  = keras.Sequential([input_, reshape, lstm, fc1, fc2, fc3, output_], name='LSTM')"
   ]
  },
  {
   "cell_type": "code",
   "execution_count": 89,
   "id": "64c05360-4822-4e71-be82-e9e209a617b1",
   "metadata": {},
   "outputs": [
    {
     "name": "stdout",
     "output_type": "stream",
     "text": [
      "Model: \"LSTM\"\n",
      "_________________________________________________________________\n",
      " Layer (type)                Output Shape              Param #   \n",
      "=================================================================\n",
      " reshape (Reshape)           (None, 128, 1)            0         \n",
      "                                                                 \n",
      " lstm (LSTM)                 (None, 16)                1152      \n",
      "                                                                 \n",
      " fc1 (Dense)                 (None, 8)                 136       \n",
      "                                                                 \n",
      " fc2 (Dense)                 (None, 4)                 36        \n",
      "                                                                 \n",
      " fc3 (Dense)                 (None, 2)                 10        \n",
      "                                                                 \n",
      " output (Dense)              (None, 1)                 3         \n",
      "                                                                 \n",
      "=================================================================\n",
      "Total params: 1,337\n",
      "Trainable params: 1,337\n",
      "Non-trainable params: 0\n",
      "_________________________________________________________________\n"
     ]
    }
   ],
   "source": [
    "lstm_m.summary()"
   ]
  },
  {
   "cell_type": "code",
   "execution_count": 108,
   "id": "b90a9024-7548-4ced-b0a5-05a9f9e49ebf",
   "metadata": {},
   "outputs": [
    {
     "data": {
      "image/png": "[encoded data removed]",
      "text/plain": [
       "<IPython.core.display.Image object>"
      ]
     },
     "execution_count": 108,
     "metadata": {},
     "output_type": "execute_result"
    }
   ],
   "source": [
    "plot_model(lstm_m,\n",
    "           rankdir=\"LR\",\n",
    "           show_shapes=True,\n",
    "           show_dtype=True,\n",
    "           show_layer_activations=True,\n",
    "           to_file=\"lstm.png\")"
   ]
  },
  {
   "cell_type": "code",
   "execution_count": 91,
   "id": "76c9ba6e-1f90-40b6-b024-c30ffb6ff936",
   "metadata": {},
   "outputs": [],
   "source": [
    "lstm_m.compile(optimizer=\"adam\",\n",
    "               loss=\"mse\",\n",
    "               metrics=[error])"
   ]
  },
  {
   "cell_type": "code",
   "execution_count": 92,
   "id": "e66f5371-4b78-41e7-9b52-ca4c73d9b251",
   "metadata": {},
   "outputs": [
    {
     "name": "stdout",
     "output_type": "stream",
     "text": [
      "Epoch 1/20\n",
      "256/256 [==============================] - 9s 31ms/step - loss: 7.1478 - error: 0.7612\n",
      "Epoch 2/20\n",
      "256/256 [==============================] - 8s 30ms/step - loss: 1.8132 - error: 0.0082\n",
      "Epoch 3/20\n",
      "256/256 [==============================] - 7s 29ms/step - loss: 1.6896 - error: 0.0023\n",
      "Epoch 4/20\n",
      "256/256 [==============================] - 7s 29ms/step - loss: 1.6427 - error: 0.0017\n",
      "Epoch 5/20\n",
      "256/256 [==============================] - 7s 29ms/step - loss: 1.5971 - error: 0.0019\n",
      "Epoch 6/20\n",
      "256/256 [==============================] - 8s 30ms/step - loss: 1.5209 - error: 0.0045\n",
      "Epoch 7/20\n",
      "256/256 [==============================] - 8s 31ms/step - loss: 1.3236 - error: -0.0028\n",
      "Epoch 8/20\n",
      "256/256 [==============================] - 8s 30ms/step - loss: 1.2379 - error: 0.0014\n",
      "Epoch 9/20\n",
      "256/256 [==============================] - 8s 31ms/step - loss: 1.1969 - error: 0.0021\n",
      "Epoch 10/20\n",
      "256/256 [==============================] - 8s 30ms/step - loss: 1.1827 - error: 9.8042e-04\n",
      "Epoch 11/20\n",
      "256/256 [==============================] - 8s 30ms/step - loss: 1.1741 - error: 2.2090e-04\n",
      "Epoch 12/20\n",
      "256/256 [==============================] - 8s 30ms/step - loss: 1.1659 - error: -1.4447e-04\n",
      "Epoch 13/20\n",
      "256/256 [==============================] - 8s 30ms/step - loss: 1.1571 - error: -2.7739e-04\n",
      "Epoch 14/20\n",
      "256/256 [==============================] - 9s 34ms/step - loss: 1.1500 - error: -4.0630e-04\n",
      "Epoch 15/20\n",
      "256/256 [==============================] - 8s 33ms/step - loss: 1.1440 - error: -5.0580e-04\n",
      "Epoch 16/20\n",
      "256/256 [==============================] - 8s 30ms/step - loss: 1.1389 - error: -4.8811e-04\n",
      "Epoch 17/20\n",
      "256/256 [==============================] - 8s 30ms/step - loss: 1.1342 - error: -5.1066e-04\n",
      "Epoch 18/20\n",
      "256/256 [==============================] - 8s 31ms/step - loss: 1.1299 - error: -5.0079e-04\n",
      "Epoch 19/20\n",
      "256/256 [==============================] - 8s 31ms/step - loss: 1.1259 - error: -5.1366e-04\n",
      "Epoch 20/20\n",
      "256/256 [==============================] - 8s 30ms/step - loss: 1.1225 - error: -5.4986e-04\n"
     ]
    }
   ],
   "source": [
    "# train the model\n",
    "history = lstm_m.fit(X,\n",
    "                     y,\n",
    "                     epochs=20,\n",
    "                     batch_size=128,\n",
    "                     verbose=1,\n",
    "                     shuffle=False)"
   ]
  },
  {
   "cell_type": "markdown",
   "id": "6964411b-7ece-4af4-b0c3-6af316d1396f",
   "metadata": {},
   "source": [
    "### GRU net"
   ]
  },
  {
   "cell_type": "code",
   "execution_count": 113,
   "id": "ff59978d-53e5-4ad9-aaa9-d3af0a724a0e",
   "metadata": {},
   "outputs": [],
   "source": [
    "input_  = Input(shape=(MAX_ARRIVALS,), name=\"input\")\n",
    "reshape = Reshape((MAX_ARRIVALS, 1), name=\"reshape\")\n",
    "gru     = GRU(16, name=\"gru\")\n",
    "fc1     = Dense(8, name=\"fc1\", activation=\"elu\")\n",
    "fc2     = Dense(4, name=\"fc2\", activation=\"elu\")\n",
    "fc3     = Dense(2, name=\"fc3\", activation=\"elu\")\n",
    "output_ = Dense(1, name=\"output\")\n",
    "gru_m  = keras.Sequential([input_, reshape, gru, fc1, fc2, fc3, output_], name='GRU')"
   ]
  },
  {
   "cell_type": "code",
   "execution_count": 114,
   "id": "b8c032b3-b676-4104-be04-6f021d6276d9",
   "metadata": {},
   "outputs": [
    {
     "name": "stdout",
     "output_type": "stream",
     "text": [
      "Model: \"GRU\"\n",
      "_________________________________________________________________\n",
      " Layer (type)                Output Shape              Param #   \n",
      "=================================================================\n",
      " reshape (Reshape)           (None, 128, 1)            0         \n",
      "                                                                 \n",
      " gru (GRU)                   (None, 16)                912       \n",
      "                                                                 \n",
      " fc1 (Dense)                 (None, 8)                 136       \n",
      "                                                                 \n",
      " fc2 (Dense)                 (None, 4)                 36        \n",
      "                                                                 \n",
      " fc3 (Dense)                 (None, 2)                 10        \n",
      "                                                                 \n",
      " output (Dense)              (None, 1)                 3         \n",
      "                                                                 \n",
      "=================================================================\n",
      "Total params: 1,097\n",
      "Trainable params: 1,097\n",
      "Non-trainable params: 0\n",
      "_________________________________________________________________\n"
     ]
    }
   ],
   "source": [
    "gru_m.summary()"
   ]
  },
  {
   "cell_type": "code",
   "execution_count": 115,
   "id": "b0dd3087-723c-4411-82e8-94e3975762dd",
   "metadata": {},
   "outputs": [
    {
     "data": {
      "image/png": "[encoded data removed]",
      "text/plain": [
       "<IPython.core.display.Image object>"
      ]
     },
     "execution_count": 115,
     "metadata": {},
     "output_type": "execute_result"
    }
   ],
   "source": [
    "plot_model(gru_m,\n",
    "           rankdir=\"LR\",\n",
    "           show_shapes=True,\n",
    "           show_dtype=True,\n",
    "           show_layer_activations=True,\n",
    "           to_file=\"gru.png\")"
   ]
  },
  {
   "cell_type": "code",
   "execution_count": 116,
   "id": "bd837f11-faa9-4e59-98fa-014bc28edfff",
   "metadata": {},
   "outputs": [],
   "source": [
    "gru_m.compile(optimizer=\"adam\",\n",
    "              loss=\"mse\",\n",
    "              metrics=[error])"
   ]
  },
  {
   "cell_type": "code",
   "execution_count": 117,
   "id": "93adfa24-32fd-41b8-9262-2db50b4e6b80",
   "metadata": {},
   "outputs": [
    {
     "name": "stdout",
     "output_type": "stream",
     "text": [
      "Epoch 1/20\n",
      "256/256 [==============================] - 9s 29ms/step - loss: 9.1165 - error: 1.3494\n",
      "Epoch 2/20\n",
      "256/256 [==============================] - 7s 29ms/step - loss: 7.2930 - error: 0.5685\n",
      "Epoch 3/20\n",
      "256/256 [==============================] - 7s 29ms/step - loss: 7.0183 - error: 0.2431\n",
      "Epoch 4/20\n",
      "256/256 [==============================] - 8s 30ms/step - loss: 6.9621 - error: 0.0860\n",
      "Epoch 5/20\n",
      "256/256 [==============================] - 7s 29ms/step - loss: 6.1785 - error: 0.3504\n",
      "Epoch 6/20\n",
      "256/256 [==============================] - 8s 29ms/step - loss: 3.4572 - error: 0.6624\n",
      "Epoch 7/20\n",
      "256/256 [==============================] - 7s 29ms/step - loss: 2.6260 - error: 0.4563\n",
      "Epoch 8/20\n",
      "256/256 [==============================] - 7s 29ms/step - loss: 2.1703 - error: 0.3393\n",
      "Epoch 9/20\n",
      "256/256 [==============================] - 7s 28ms/step - loss: 1.8821 - error: 0.2576\n",
      "Epoch 10/20\n",
      "256/256 [==============================] - 7s 28ms/step - loss: 1.6889 - error: 0.2011\n",
      "Epoch 11/20\n",
      "256/256 [==============================] - 7s 29ms/step - loss: 1.5438 - error: 0.1611\n",
      "Epoch 12/20\n",
      "256/256 [==============================] - 7s 28ms/step - loss: 1.4312 - error: 0.1293\n",
      "Epoch 13/20\n",
      "256/256 [==============================] - 7s 29ms/step - loss: 1.3461 - error: 0.1029\n",
      "Epoch 14/20\n",
      "256/256 [==============================] - 7s 29ms/step - loss: 1.2830 - error: 0.0827\n",
      "Epoch 15/20\n",
      "256/256 [==============================] - 7s 29ms/step - loss: 1.2368 - error: 0.0665\n",
      "Epoch 16/20\n",
      "256/256 [==============================] - 8s 30ms/step - loss: 1.2030 - error: 0.0527\n",
      "Epoch 17/20\n",
      "256/256 [==============================] - 8s 30ms/step - loss: 1.1780 - error: 0.0422\n",
      "Epoch 18/20\n",
      "256/256 [==============================] - 7s 28ms/step - loss: 1.1581 - error: 0.0346\n",
      "Epoch 19/20\n",
      "256/256 [==============================] - 8s 33ms/step - loss: 1.1422 - error: 0.0286\n",
      "Epoch 20/20\n",
      "256/256 [==============================] - 9s 35ms/step - loss: 1.1290 - error: 0.0241\n"
     ]
    }
   ],
   "source": [
    "# train the model\n",
    "history = gru_m.fit(X,\n",
    "                    y,\n",
    "                    epochs=20,\n",
    "                    batch_size=128,\n",
    "                    verbose=1,\n",
    "                    shuffle=False)"
   ]
  },
  {
   "cell_type": "markdown",
   "id": "3b3572aa-91df-4eb4-b384-6a14ca44d681",
   "metadata": {},
   "source": [
    "## Statistical analysis"
   ]
  },
  {
   "cell_type": "code",
   "execution_count": 48,
   "id": "2801bc65-2875-4fe8-a831-61427df7b62f",
   "metadata": {},
   "outputs": [],
   "source": [
    "def repeat_ests(model, a, b, mu, beg, end, n_repeats, seed):\n",
    "    \"\"\"\n",
    "    Repeats estimations of tau\n",
    "    \"\"\"\n",
    "    rng = np.random.default_rng(seed) # for reproducibility\n",
    "    \n",
    "    arrivals_l = []\n",
    "    taus_l     = []\n",
    "    est_taus_l = []\n",
    "    \n",
    "    for repeat in tqdm(range(n_repeats)):\n",
    "        arrivals, tau = trajectory(a, b, mu, beg, end, rng)\n",
    "        arrivals_l.append(arrivals)\n",
    "        taus_l.append(tau)\n",
    "        tau_est = model(arrivals.reshape(1, -1)).numpy()[0][0]\n",
    "        est_taus_l.append(tau_est)\n",
    "        \n",
    "    return taus_l, est_taus_l"
   ]
  },
  {
   "cell_type": "code",
   "execution_count": 18,
   "id": "89a60190-aee9-4d30-94d7-720a797dc2da",
   "metadata": {},
   "outputs": [],
   "source": [
    "def stat_summary(taus_l, est_taus_l):\n",
    "    \"\"\"\n",
    "    Prints a summary of the estimator and a bar plot of the errors\n",
    "    \"\"\"    \n",
    "    taus_arr = np.array(taus_l)\n",
    "    est_taus_arr = np.array(est_taus_l)\n",
    "    \n",
    "    error = taus_arr - est_taus_arr\n",
    "    \n",
    "    print(f\"bias: {np.mean(error):.2f}\")\n",
    "    print(f\"sigma: {np.std(error):.2f}\")\n",
    "    print(f\"mu={mu}\\na={a}\\nb={b}\")\n",
    "    \n",
    "    fig = plt.figure(figsize=(10, 3))\n",
    "    plt.hist(error, bins=50)\n",
    "    plt.title(fr\"$\\tau - \\hat{{\\tau}}$\")\n",
    "    plt.show()"
   ]
  },
  {
   "cell_type": "code",
   "execution_count": 99,
   "id": "fc645ba5-9b59-4742-a066-c774b1fe22a4",
   "metadata": {},
   "outputs": [
    {
     "name": "stderr",
     "output_type": "stream",
     "text": [
      "100%|██████████████████████████████████████████████████████████████████████████████████████████████████████████████████| 5000/5000 [00:14<00:00, 340.33it/s]\n"
     ]
    },
    {
     "name": "stdout",
     "output_type": "stream",
     "text": [
      "bias: -0.03\n",
      "sigma: 1.03\n",
      "mu=0.2\n",
      "a=5\n",
      "b=10\n"
     ]
    },
    {
     "data": {
      "image/png": "[encoded data removed]",
      "text/plain": [
       "<Figure size 720x216 with 1 Axes>"
      ]
     },
     "metadata": {},
     "output_type": "display_data"
    }
   ],
   "source": [
    "taus_l, est_taus_l = repeat_ests(fc_m, a, b, mu, beg, end, n_repeats=5000, seed=42)\n",
    "stat_summary(taus_l, est_taus_l)"
   ]
  },
  {
   "cell_type": "code",
   "execution_count": 101,
   "id": "b8bd952c-a054-458a-a4ef-9fd943f7852c",
   "metadata": {},
   "outputs": [
    {
     "name": "stderr",
     "output_type": "stream",
     "text": [
      "100%|███████████████████████████████████████████████████████████████████████████████████████████████████████████████████| 1000/1000 [01:52<00:00,  8.92it/s]\n"
     ]
    },
    {
     "name": "stdout",
     "output_type": "stream",
     "text": [
      "bias: 0.05\n",
      "sigma: 1.07\n",
      "mu=0.2\n",
      "a=5\n",
      "b=10\n"
     ]
    },
    {
     "data": {
      "image/png": "[encoded data removed]",
      "text/plain": [
       "<Figure size 720x216 with 1 Axes>"
      ]
     },
     "metadata": {},
     "output_type": "display_data"
    }
   ],
   "source": [
    "taus_l, est_taus_l = repeat_ests(lstm_m, a, b, mu, beg, end, n_repeats=1000, seed=42)\n",
    "stat_summary(taus_l, est_taus_l)"
   ]
  },
  {
   "cell_type": "code",
   "execution_count": 118,
   "id": "084e3bd2-e2ed-4e82-a0b4-b14889cfab4f",
   "metadata": {},
   "outputs": [
    {
     "name": "stderr",
     "output_type": "stream",
     "text": [
      "100%|███████████████████████████████████████████████████████████████████████████████████████████████████████████████████| 1000/1000 [02:14<00:00,  7.42it/s]\n"
     ]
    },
    {
     "name": "stdout",
     "output_type": "stream",
     "text": [
      "bias: 0.09\n",
      "sigma: 1.07\n",
      "mu=0.2\n",
      "a=5\n",
      "b=10\n"
     ]
    },
    {
     "data": {
      "image/png": "[encoded data removed]",
      "text/plain": [
       "<Figure size 720x216 with 1 Axes>"
      ]
     },
     "metadata": {},
     "output_type": "display_data"
    }
   ],
   "source": [
    "taus_l, est_taus_l = repeat_ests(gru_m, a, b, mu, beg, end, n_repeats=1000, seed=42)\n",
    "stat_summary(taus_l, est_taus_l)"
   ]
  },
  {
   "cell_type": "code",
   "execution_count": null,
   "id": "cbb6dd72-b162-4b90-bffd-1c4d0ffcca10",
   "metadata": {},
   "outputs": [],
   "source": []
  }
 ],
 "metadata": {
  "kernelspec": {
   "display_name": "Python 3 (ipykernel)",
   "language": "python",
   "name": "python3"
  },
  "language_info": {
   "codemirror_mode": {
    "name": "ipython",
    "version": 3
   },
   "file_extension": ".py",
   "mimetype": "text/x-python",
   "name": "python",
   "nbconvert_exporter": "python",
   "pygments_lexer": "ipython3",
   "version": "3.8.13"
  }
 },
 "nbformat": 4,
 "nbformat_minor": 5
}
