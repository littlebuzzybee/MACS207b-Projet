{
 "cells": [
  {
   "cell_type": "markdown",
   "id": "27119d3f-dcb1-41f8-80a1-547e2c7463a2",
   "metadata": {},
   "source": [
    "# Poisson process filtering - Deep Learning approach"
   ]
  },
  {
   "cell_type": "markdown",
   "id": "ff072d83-a6c4-4bd3-aafa-a51e33cb8e90",
   "metadata": {},
   "source": [
    "## Problem and notations"
   ]
  },
  {
   "cell_type": "markdown",
   "id": "3f866c56-b345-4909-b59b-f98a47977b91",
   "metadata": {},
   "source": [
    "Let $N_a$ and $N_b$ be 2 independant [Poisson point processes](https://en.wikipedia.org/wiki/Poisson_point_process) of respective intensities $a > 0$ and $b > 0$.\n",
    "\n",
    "Let $\\tau \\sim \\mathcal{E}(\\mu)$ independant of $N_a$ and $N_b$, where $\\mu > 0$.\n",
    "\n",
    "Let $N$ be the \"concatenated\" process of the of $N_a$ before $\\tau$, and $N_b$ after $\\tau$:\n",
    "\n",
    "$$\\forall t \\ge 0, \\, N(t) = \\mathcal{1}_{\\tau < t} \\, N_a(t) + \\mathcal{1}_{\\tau > t} \\, N_b(t)$$"
   ]
  },
  {
   "cell_type": "markdown",
   "id": "67247918-a2ef-4cfc-8084-b814c1ebaa29",
   "metadata": {
    "tags": []
   },
   "source": [
    "## Imports"
   ]
  },
  {
   "cell_type": "code",
   "execution_count": 96,
   "id": "5775cc3b-85a2-4b3d-851c-97a65934e3c9",
   "metadata": {
    "tags": []
   },
   "outputs": [],
   "source": [
    "from tqdm import tqdm\n",
    "import tensorflow as tf\n",
    "import numpy as np\n",
    "import matplotlib.pyplot as plt\n",
    "import seaborn as sns\n",
    "sns.set()\n",
    "sns.set_palette(\"hls\")\n",
    "import tensorflow.keras as keras\n",
    "from tensorflow.keras.utils import plot_model\n",
    "from tensorflow.keras.layers import Reshape, Input, Dense, Conv1D, MaxPool1D, Flatten, LSTM, GRU, SimpleRNN\n",
    "from tensorflow.keras.optimizers import Adam"
   ]
  },
  {
   "cell_type": "code",
   "execution_count": 97,
   "id": "65542614-96ad-4b32-a117-e44ef52f6891",
   "metadata": {},
   "outputs": [
    {
     "data": {
      "text/plain": [
       "[PhysicalDevice(name='/physical_device:CPU:0', device_type='CPU')]"
      ]
     },
     "execution_count": 97,
     "metadata": {},
     "output_type": "execute_result"
    }
   ],
   "source": [
    "tf.config.list_physical_devices()"
   ]
  },
  {
   "cell_type": "markdown",
   "id": "02d56734-37e1-4186-b848-b01bf1413c73",
   "metadata": {},
   "source": [
    "## Process generating"
   ]
  },
  {
   "cell_type": "code",
   "execution_count": 98,
   "id": "578d9188-50c3-4aca-aabc-b2deb1daaec7",
   "metadata": {},
   "outputs": [],
   "source": [
    "# Poisson model parameters\n",
    "a = 5    # 1st intensity\n",
    "b = 10   # 2nd intensity\n",
    "beg = 0  # beginning of times\n",
    "end = 10 # end of times\n",
    "mu = 0.2 # parameter of the exponential distribution"
   ]
  },
  {
   "cell_type": "code",
   "execution_count": 99,
   "id": "d6633460-3384-45b2-8b4a-7db9f20735c4",
   "metadata": {},
   "outputs": [
    {
     "name": "stdout",
     "output_type": "stream",
     "text": [
      "The expected value of tau is 5.0\n"
     ]
    }
   ],
   "source": [
    "print(f\"The expected value of tau is {1/mu:.1f}\")"
   ]
  },
  {
   "cell_type": "code",
   "execution_count": 100,
   "id": "947d511a-52f8-4bf5-adeb-fcf515fece5b",
   "metadata": {},
   "outputs": [],
   "source": [
    "def poisson_proc(lmbda, orig, horiz, rng):\n",
    "    \"\"\"\n",
    "    Generates arrivals of a point Poisson process\n",
    "    \"\"\"\n",
    "    arrivals = []\n",
    "    t = orig\n",
    "    while t < horiz:\n",
    "        t = t - np.log(rng.random()) / lmbda\n",
    "        arrivals.append(t)\n",
    "    \n",
    "    return np.sort(arrivals[:-1])   "
   ]
  },
  {
   "cell_type": "code",
   "execution_count": 101,
   "id": "2e6b1440-fdb4-4164-b450-7ccb3c3758ee",
   "metadata": {},
   "outputs": [],
   "source": [
    "MAX_ARRIVALS = 128 "
   ]
  },
  {
   "cell_type": "code",
   "execution_count": 102,
   "id": "04c775e3-8a87-4457-b653-dbdee296ade5",
   "metadata": {},
   "outputs": [],
   "source": [
    "def trajectory(a, b, mu, beg, end, rng):\n",
    "    \"\"\"\n",
    "    Generates concatenated processes arrivals\n",
    "    \"\"\"\n",
    "    tau = beg + rng.exponential(1/mu)\n",
    "    while tau > end: # force sampling of tau in (beg, end)\n",
    "        tau = beg + rng.exponential(1/mu)\n",
    "    arrivals = np.concatenate((poisson_proc(a, beg, tau, rng),\n",
    "                               poisson_proc(b, tau, end, rng)))\n",
    "    arrivals = arrivals[:MAX_ARRIVALS]                                        # trim\n",
    "    arrivals = np.pad(arrivals, (0, MAX_ARRIVALS-arrivals.size), mode='edge') # pad\n",
    "    return arrivals, tau"
   ]
  },
  {
   "cell_type": "code",
   "execution_count": 103,
   "id": "64465b0f-575e-41ae-91da-41dbf6003920",
   "metadata": {},
   "outputs": [],
   "source": [
    "# setting the seed for reproducibility\n",
    "seed = 2022\n",
    "rng = np.random.default_rng(seed)"
   ]
  },
  {
   "cell_type": "markdown",
   "id": "ebc33e72-88d9-47ed-820f-f9f4d1532be5",
   "metadata": {},
   "source": [
    "## Estimating $\\tau$"
   ]
  },
  {
   "cell_type": "code",
   "execution_count": 104,
   "id": "ee893d24-b656-4e8c-bc0f-b16b42e84fc5",
   "metadata": {},
   "outputs": [],
   "source": [
    "# helper functions and constants for all models\n",
    "\n",
    "NB_TRAIN_SAMPLES = 2**15\n",
    "\n",
    "def error(y_true, y_pred):\n",
    "    return y_true - y_pred\n",
    "\n",
    "def generate_training_processes(nb_samples, a, b, mu, beg, end, rng):\n",
    "    \"\"\"\n",
    "    Generates ground-truth concatenated processes for training\n",
    "    \"\"\"\n",
    "    X = np.empty((nb_samples, MAX_ARRIVALS))\n",
    "    y = np.empty((nb_samples,))\n",
    "    for n in range(nb_samples):\n",
    "        arrivals, tau = trajectory(a, b, mu, beg, end, rng)\n",
    "        X[n] = arrivals\n",
    "        y[n] = tau\n",
    "    return X, y"
   ]
  },
  {
   "cell_type": "code",
   "execution_count": 105,
   "id": "e8ace692-6e03-47e1-a248-577893b88410",
   "metadata": {},
   "outputs": [],
   "source": [
    "X, y = generate_training_processes(NB_TRAIN_SAMPLES, a, b, mu, beg, end, rng)"
   ]
  },
  {
   "cell_type": "markdown",
   "id": "b7ba7a84-c5bc-47e1-ae68-f20bf66d83bb",
   "metadata": {},
   "source": [
    "### Fully-connected net"
   ]
  },
  {
   "cell_type": "code",
   "execution_count": 106,
   "id": "3df65d29-7ac9-4079-889a-244039599e67",
   "metadata": {},
   "outputs": [],
   "source": [
    "input_  = Input(shape=(MAX_ARRIVALS,), name=\"input\")\n",
    "fc1     = Dense(64, name=\"fc1\", activation=\"elu\")\n",
    "fc2     = Dense(32, name=\"fc2\", activation=\"elu\")\n",
    "fc3     = Dense(16, name=\"fc3\", activation=\"elu\")\n",
    "fc4     = Dense(8,  name=\"fc5\", activation=\"elu\")\n",
    "fc5     = Dense(4,  name=\"fc6\", activation=\"elu\")\n",
    "fc6     = Dense(2,  name=\"fc7\", activation=\"elu\")\n",
    "output_ = Dense(1, name=\"output\")\n",
    "fc_m    = keras.Sequential([input_, fc1, fc2, fc3, fc4, fc5, fc6, output_], name='fully_connected')"
   ]
  },
  {
   "cell_type": "code",
   "execution_count": 107,
   "id": "e912744e-081d-4dae-ae29-31db80942d91",
   "metadata": {},
   "outputs": [
    {
     "name": "stdout",
     "output_type": "stream",
     "text": [
      "Model: \"fully_connected\"\n",
      "_________________________________________________________________\n",
      " Layer (type)                Output Shape              Param #   \n",
      "=================================================================\n",
      " fc1 (Dense)                 (None, 64)                8256      \n",
      "                                                                 \n",
      " fc2 (Dense)                 (None, 32)                2080      \n",
      "                                                                 \n",
      " fc3 (Dense)                 (None, 16)                528       \n",
      "                                                                 \n",
      " fc5 (Dense)                 (None, 8)                 136       \n",
      "                                                                 \n",
      " fc6 (Dense)                 (None, 4)                 36        \n",
      "                                                                 \n",
      " fc7 (Dense)                 (None, 2)                 10        \n",
      "                                                                 \n",
      " output (Dense)              (None, 1)                 3         \n",
      "                                                                 \n",
      "=================================================================\n",
      "Total params: 11,049\n",
      "Trainable params: 11,049\n",
      "Non-trainable params: 0\n",
      "_________________________________________________________________\n"
     ]
    }
   ],
   "source": [
    "fc_m.summary()"
   ]
  },
  {
   "cell_type": "code",
   "execution_count": 108,
   "id": "1528ade6-2b66-454a-bad3-e87828dc1133",
   "metadata": {},
   "outputs": [
    {
     "data": {
      "image/png": "[encoded data removed]",
      "text/plain": [
       "<IPython.core.display.Image object>"
      ]
     },
     "execution_count": 108,
     "metadata": {},
     "output_type": "execute_result"
    }
   ],
   "source": [
    "plot_model(fc_m,\n",
    "           rankdir=\"LR\",\n",
    "           show_shapes=True,\n",
    "           show_dtype=True,\n",
    "           show_layer_activations=True,\n",
    "           to_file=\"fully_connected.png\")"
   ]
  },
  {
   "cell_type": "code",
   "execution_count": 109,
   "id": "d49bf822-e32d-46a1-b2c6-e1a20648b8b3",
   "metadata": {},
   "outputs": [],
   "source": [
    "fc_m.compile(optimizer=\"adam\",\n",
    "             loss=\"mse\",\n",
    "             metrics=[error])"
   ]
  },
  {
   "cell_type": "code",
   "execution_count": 110,
   "id": "b1f36d13-1c1e-4437-aa06-b4a25e7ccd81",
   "metadata": {},
   "outputs": [
    {
     "name": "stdout",
     "output_type": "stream",
     "text": [
      "Epoch 1/20\n",
      "256/256 [==============================] - 1s 2ms/step - loss: 2.0234 - error: 0.0422\n",
      "Epoch 2/20\n",
      "256/256 [==============================] - 0s 2ms/step - loss: 1.3180 - error: 0.0011\n",
      "Epoch 3/20\n",
      "256/256 [==============================] - 0s 2ms/step - loss: 1.2518 - error: 6.0129e-04\n",
      "Epoch 4/20\n",
      "256/256 [==============================] - 0s 2ms/step - loss: 1.2059 - error: -6.2662e-04\n",
      "Epoch 5/20\n",
      "256/256 [==============================] - 0s 2ms/step - loss: 1.1859 - error: -8.0911e-04\n",
      "Epoch 6/20\n",
      "256/256 [==============================] - 0s 2ms/step - loss: 1.1732 - error: 6.6168e-04\n",
      "Epoch 7/20\n",
      "256/256 [==============================] - 0s 2ms/step - loss: 1.1521 - error: 0.0012\n",
      "Epoch 8/20\n",
      "256/256 [==============================] - 0s 2ms/step - loss: 1.1409 - error: 0.0011\n",
      "Epoch 9/20\n",
      "256/256 [==============================] - 0s 2ms/step - loss: 1.1361 - error: 0.0015\n",
      "Epoch 10/20\n",
      "256/256 [==============================] - 1s 2ms/step - loss: 1.1369 - error: 0.0020\n",
      "Epoch 11/20\n",
      "256/256 [==============================] - 1s 3ms/step - loss: 1.1360 - error: 0.0022\n",
      "Epoch 12/20\n",
      "256/256 [==============================] - 1s 2ms/step - loss: 1.1291 - error: 0.0020\n",
      "Epoch 13/20\n",
      "256/256 [==============================] - 1s 3ms/step - loss: 1.1185 - error: 0.0023\n",
      "Epoch 14/20\n",
      "256/256 [==============================] - 1s 2ms/step - loss: 1.1122 - error: 0.0024\n",
      "Epoch 15/20\n",
      "256/256 [==============================] - 1s 2ms/step - loss: 1.1108 - error: 0.0026\n",
      "Epoch 16/20\n",
      "256/256 [==============================] - 0s 2ms/step - loss: 1.1069 - error: 0.0024\n",
      "Epoch 17/20\n",
      "256/256 [==============================] - 0s 2ms/step - loss: 1.1023 - error: 0.0023\n",
      "Epoch 18/20\n",
      "256/256 [==============================] - 0s 2ms/step - loss: 1.0985 - error: 0.0021\n",
      "Epoch 19/20\n",
      "256/256 [==============================] - 0s 2ms/step - loss: 1.0963 - error: 0.0019\n",
      "Epoch 20/20\n",
      "256/256 [==============================] - 0s 2ms/step - loss: 1.0939 - error: 0.0017\n"
     ]
    }
   ],
   "source": [
    "# train the model\n",
    "history = fc_m.fit(X,\n",
    "                   y,\n",
    "                   epochs=20,\n",
    "                   batch_size=128,\n",
    "                   verbose=1,\n",
    "                   shuffle=False)"
   ]
  },
  {
   "cell_type": "markdown",
   "id": "bc6a5fc1-7316-4bcf-b608-c5957724ff67",
   "metadata": {},
   "source": [
    "### Conv net"
   ]
  },
  {
   "cell_type": "code",
   "execution_count": 111,
   "id": "0f817273-d7dc-41cf-aea8-009402d0586e",
   "metadata": {},
   "outputs": [],
   "source": [
    "input_  = Input(shape=(MAX_ARRIVALS,), name=\"input\")\n",
    "reshape = Reshape((MAX_ARRIVALS, 1), name=\"reshape\")\n",
    "conv1   = Conv1D(filters=16, kernel_size=16, activation=\"elu\", name=\"conv1\")\n",
    "pool1   = MaxPool1D(pool_size=4, name=\"pool1\")\n",
    "conv2   = Conv1D(filters=16, kernel_size=4, activation=\"elu\", name=\"conv2\")\n",
    "pool2   = MaxPool1D(pool_size=2, name=\"pool2\")\n",
    "flatten = Flatten(name=\"flatten\")\n",
    "fc1     = Dense(48, name=\"fc1\", activation=\"elu\")\n",
    "fc2     = Dense(16, name=\"fc2\", activation=\"elu\")\n",
    "fc3     = Dense(4, name=\"fc3\", activation=\"elu\")\n",
    "output_ = Dense(1, name=\"output\")\n",
    "conv_m  = keras.Sequential([input_, reshape, conv1, pool1, conv2, pool2, flatten, fc1, fc2, fc3, output_], name='conv')"
   ]
  },
  {
   "cell_type": "code",
   "execution_count": 112,
   "id": "2990e276-59a2-474f-83fc-87f35d899b08",
   "metadata": {},
   "outputs": [
    {
     "name": "stdout",
     "output_type": "stream",
     "text": [
      "Model: \"conv\"\n",
      "_________________________________________________________________\n",
      " Layer (type)                Output Shape              Param #   \n",
      "=================================================================\n",
      " reshape (Reshape)           (None, 128, 1)            0         \n",
      "                                                                 \n",
      " conv1 (Conv1D)              (None, 113, 16)           272       \n",
      "                                                                 \n",
      " pool1 (MaxPooling1D)        (None, 28, 16)            0         \n",
      "                                                                 \n",
      " conv2 (Conv1D)              (None, 25, 16)            1040      \n",
      "                                                                 \n",
      " pool2 (MaxPooling1D)        (None, 12, 16)            0         \n",
      "                                                                 \n",
      " flatten (Flatten)           (None, 192)               0         \n",
      "                                                                 \n",
      " fc1 (Dense)                 (None, 48)                9264      \n",
      "                                                                 \n",
      " fc2 (Dense)                 (None, 16)                784       \n",
      "                                                                 \n",
      " fc3 (Dense)                 (None, 4)                 68        \n",
      "                                                                 \n",
      " output (Dense)              (None, 1)                 5         \n",
      "                                                                 \n",
      "=================================================================\n",
      "Total params: 11,433\n",
      "Trainable params: 11,433\n",
      "Non-trainable params: 0\n",
      "_________________________________________________________________\n"
     ]
    }
   ],
   "source": [
    "conv_m.summary()"
   ]
  },
  {
   "cell_type": "code",
   "execution_count": 113,
   "id": "a024c299-3535-4ef3-b10c-701965cf55ae",
   "metadata": {},
   "outputs": [
    {
     "data": {
      "image/png": "[encoded data removed]",
      "text/plain": [
       "<IPython.core.display.Image object>"
      ]
     },
     "execution_count": 113,
     "metadata": {},
     "output_type": "execute_result"
    }
   ],
   "source": [
    "plot_model(conv_m,\n",
    "           rankdir=\"LR\",\n",
    "           show_shapes=True,\n",
    "           show_dtype=True,\n",
    "           show_layer_activations=True,\n",
    "           to_file=\"conv.png\")"
   ]
  },
  {
   "cell_type": "code",
   "execution_count": 114,
   "id": "0d776d16-1f9d-4b7b-94c0-74f800a8c541",
   "metadata": {},
   "outputs": [],
   "source": [
    "conv_m.compile(optimizer=\"adam\",\n",
    "               loss=\"mse\",\n",
    "               metrics=[error])"
   ]
  },
  {
   "cell_type": "code",
   "execution_count": 115,
   "id": "7e5812b1-2aa7-4d5b-aefd-fe376f931e33",
   "metadata": {},
   "outputs": [
    {
     "name": "stdout",
     "output_type": "stream",
     "text": [
      "Epoch 1/20\n",
      "256/256 [==============================] - 2s 6ms/step - loss: 2.8265 - error: 0.0239\n",
      "Epoch 2/20\n",
      "256/256 [==============================] - 1s 6ms/step - loss: 1.4146 - error: -0.0018\n",
      "Epoch 3/20\n",
      "256/256 [==============================] - 1s 6ms/step - loss: 1.2439 - error: 0.0041\n",
      "Epoch 4/20\n",
      "256/256 [==============================] - 2s 6ms/step - loss: 1.1705 - error: 0.0033\n",
      "Epoch 5/20\n",
      "256/256 [==============================] - 2s 7ms/step - loss: 1.1216 - error: 0.0026\n",
      "Epoch 6/20\n",
      "256/256 [==============================] - 2s 7ms/step - loss: 1.0965 - error: 0.0019\n",
      "Epoch 7/20\n",
      "256/256 [==============================] - 2s 7ms/step - loss: 1.0800 - error: 0.0018\n",
      "Epoch 8/20\n",
      "256/256 [==============================] - 2s 9ms/step - loss: 1.0672 - error: 0.0013\n",
      "Epoch 9/20\n",
      "256/256 [==============================] - 2s 7ms/step - loss: 1.0572 - error: 8.6942e-04\n",
      "Epoch 10/20\n",
      "256/256 [==============================] - 2s 7ms/step - loss: 1.0504 - error: 7.9447e-04\n",
      "Epoch 11/20\n",
      "256/256 [==============================] - 2s 8ms/step - loss: 1.0427 - error: 7.4502e-04\n",
      "Epoch 12/20\n",
      "256/256 [==============================] - 2s 7ms/step - loss: 1.0363 - error: 8.3475e-04\n",
      "Epoch 13/20\n",
      "256/256 [==============================] - 2s 7ms/step - loss: 1.0316 - error: 9.2448e-04\n",
      "Epoch 14/20\n",
      "256/256 [==============================] - 2s 7ms/step - loss: 1.0273 - error: 0.0010\n",
      "Epoch 15/20\n",
      "256/256 [==============================] - 2s 7ms/step - loss: 1.0236 - error: 0.0010\n",
      "Epoch 16/20\n",
      "256/256 [==============================] - 2s 6ms/step - loss: 1.0201 - error: 0.0011\n",
      "Epoch 17/20\n",
      "256/256 [==============================] - 2s 6ms/step - loss: 1.0168 - error: 0.0012\n",
      "Epoch 18/20\n",
      "256/256 [==============================] - 2s 7ms/step - loss: 1.0135 - error: 0.0012\n",
      "Epoch 19/20\n",
      "256/256 [==============================] - 1s 6ms/step - loss: 1.0107 - error: 0.0012\n",
      "Epoch 20/20\n",
      "256/256 [==============================] - 2s 6ms/step - loss: 1.0079 - error: 0.0013\n"
     ]
    }
   ],
   "source": [
    "# train the model\n",
    "history = conv_m.fit(X,\n",
    "                     y,\n",
    "                     epochs=20,\n",
    "                     batch_size=128,\n",
    "                     verbose=1,\n",
    "                     shuffle=False)"
   ]
  },
  {
   "cell_type": "markdown",
   "id": "dfdd7a06-d567-43d7-9190-a7860d0ad5dc",
   "metadata": {},
   "source": [
    "### LSTM net"
   ]
  },
  {
   "cell_type": "code",
   "execution_count": 116,
   "id": "54c51aa0-d4e4-4dbe-b4f3-e6b042f02f74",
   "metadata": {},
   "outputs": [],
   "source": [
    "input_  = Input(shape=(MAX_ARRIVALS,), name=\"input\")\n",
    "reshape = Reshape((MAX_ARRIVALS, 1), name=\"reshape\")\n",
    "lstm    = LSTM(16, name=\"lstm\")\n",
    "fc1     = Dense(8, name=\"fc1\", activation=\"elu\")\n",
    "fc2     = Dense(4, name=\"fc2\", activation=\"elu\")\n",
    "fc3     = Dense(2, name=\"fc3\", activation=\"elu\")\n",
    "output_ = Dense(1, name=\"output\")\n",
    "lstm_m  = keras.Sequential([input_, reshape, lstm, fc1, fc2, fc3, output_], name='LSTM')"
   ]
  },
  {
   "cell_type": "code",
   "execution_count": 117,
   "id": "64c05360-4822-4e71-be82-e9e209a617b1",
   "metadata": {},
   "outputs": [
    {
     "name": "stdout",
     "output_type": "stream",
     "text": [
      "Model: \"LSTM\"\n",
      "_________________________________________________________________\n",
      " Layer (type)                Output Shape              Param #   \n",
      "=================================================================\n",
      " reshape (Reshape)           (None, 128, 1)            0         \n",
      "                                                                 \n",
      " lstm (LSTM)                 (None, 16)                1152      \n",
      "                                                                 \n",
      " fc1 (Dense)                 (None, 8)                 136       \n",
      "                                                                 \n",
      " fc2 (Dense)                 (None, 4)                 36        \n",
      "                                                                 \n",
      " fc3 (Dense)                 (None, 2)                 10        \n",
      "                                                                 \n",
      " output (Dense)              (None, 1)                 3         \n",
      "                                                                 \n",
      "=================================================================\n",
      "Total params: 1,337\n",
      "Trainable params: 1,337\n",
      "Non-trainable params: 0\n",
      "_________________________________________________________________\n"
     ]
    }
   ],
   "source": [
    "lstm_m.summary()"
   ]
  },
  {
   "cell_type": "code",
   "execution_count": 118,
   "id": "b90a9024-7548-4ced-b0a5-05a9f9e49ebf",
   "metadata": {},
   "outputs": [
    {
     "data": {
      "image/png": "[encoded data removed]",
      "text/plain": [
       "<IPython.core.display.Image object>"
      ]
     },
     "execution_count": 118,
     "metadata": {},
     "output_type": "execute_result"
    }
   ],
   "source": [
    "plot_model(lstm_m,\n",
    "           rankdir=\"LR\",\n",
    "           show_shapes=True,\n",
    "           show_dtype=True,\n",
    "           show_layer_activations=True,\n",
    "           to_file=\"lstm.png\")"
   ]
  },
  {
   "cell_type": "code",
   "execution_count": 119,
   "id": "76c9ba6e-1f90-40b6-b024-c30ffb6ff936",
   "metadata": {},
   "outputs": [],
   "source": [
    "lstm_m.compile(optimizer=\"adam\",\n",
    "               loss=\"mse\",\n",
    "               metrics=[error])"
   ]
  },
  {
   "cell_type": "code",
   "execution_count": 120,
   "id": "e66f5371-4b78-41e7-9b52-ca4c73d9b251",
   "metadata": {},
   "outputs": [
    {
     "name": "stdout",
     "output_type": "stream",
     "text": [
      "Epoch 1/20\n",
      "256/256 [==============================] - 10s 32ms/step - loss: 8.6591 - error: 0.9604\n",
      "Epoch 2/20\n",
      "256/256 [==============================] - 8s 31ms/step - loss: 1.9605 - error: 0.0376\n",
      "Epoch 3/20\n",
      "256/256 [==============================] - 8s 30ms/step - loss: 1.7456 - error: -8.5222e-04\n",
      "Epoch 4/20\n",
      "256/256 [==============================] - 9s 33ms/step - loss: 1.7079 - error: -3.7826e-04\n",
      "Epoch 5/20\n",
      "256/256 [==============================] - 9s 35ms/step - loss: 1.6854 - error: -2.1569e-04\n",
      "Epoch 6/20\n",
      "256/256 [==============================] - 8s 31ms/step - loss: 1.6599 - error: 2.9924e-04\n",
      "Epoch 7/20\n",
      "256/256 [==============================] - 8s 31ms/step - loss: 1.6178 - error: 0.0013\n",
      "Epoch 8/20\n",
      "256/256 [==============================] - 9s 34ms/step - loss: 1.5523 - error: 0.0024\n",
      "Epoch 9/20\n",
      "256/256 [==============================] - 8s 32ms/step - loss: 1.4927 - error: 0.0019\n",
      "Epoch 10/20\n",
      "256/256 [==============================] - 8s 30ms/step - loss: 1.4307 - error: 0.0014\n",
      "Epoch 11/20\n",
      "256/256 [==============================] - 8s 31ms/step - loss: 1.3961 - error: 7.9669e-04\n",
      "Epoch 12/20\n",
      "256/256 [==============================] - 8s 31ms/step - loss: 1.3798 - error: 5.6406e-04\n",
      "Epoch 13/20\n",
      "256/256 [==============================] - 9s 37ms/step - loss: 1.3645 - error: 1.3338e-04\n",
      "Epoch 14/20\n",
      "256/256 [==============================] - 8s 30ms/step - loss: 1.3275 - error: 0.0016\n",
      "Epoch 15/20\n",
      "256/256 [==============================] - 8s 32ms/step - loss: 1.2859 - error: 0.0016\n",
      "Epoch 16/20\n",
      "256/256 [==============================] - 7s 29ms/step - loss: 1.2433 - error: 6.6006e-04\n",
      "Epoch 17/20\n",
      "256/256 [==============================] - 7s 28ms/step - loss: 1.2022 - error: -7.0946e-04\n",
      "Epoch 18/20\n",
      "256/256 [==============================] - 8s 32ms/step - loss: 1.1789 - error: -2.3122e-04\n",
      "Epoch 19/20\n",
      "256/256 [==============================] - 7s 28ms/step - loss: 1.1654 - error: 3.3665e-04\n",
      "Epoch 20/20\n",
      "256/256 [==============================] - 8s 30ms/step - loss: 1.1534 - error: 6.8406e-04\n"
     ]
    }
   ],
   "source": [
    "# train the model\n",
    "history = lstm_m.fit(X,\n",
    "                     y,\n",
    "                     epochs=20,\n",
    "                     batch_size=128,\n",
    "                     verbose=1,\n",
    "                     shuffle=False)"
   ]
  },
  {
   "cell_type": "markdown",
   "id": "6964411b-7ece-4af4-b0c3-6af316d1396f",
   "metadata": {},
   "source": [
    "### GRU net"
   ]
  },
  {
   "cell_type": "code",
   "execution_count": 121,
   "id": "ff59978d-53e5-4ad9-aaa9-d3af0a724a0e",
   "metadata": {},
   "outputs": [],
   "source": [
    "input_  = Input(shape=(MAX_ARRIVALS,), name=\"input\")\n",
    "reshape = Reshape((MAX_ARRIVALS, 1), name=\"reshape\")\n",
    "gru     = GRU(16, name=\"gru\")\n",
    "fc1     = Dense(8, name=\"fc1\", activation=\"elu\")\n",
    "fc2     = Dense(4, name=\"fc2\", activation=\"elu\")\n",
    "fc3     = Dense(2, name=\"fc3\", activation=\"elu\")\n",
    "output_ = Dense(1, name=\"output\")\n",
    "gru_m  = keras.Sequential([input_, reshape, gru, fc1, fc2, fc3, output_], name='GRU')"
   ]
  },
  {
   "cell_type": "code",
   "execution_count": 122,
   "id": "b8c032b3-b676-4104-be04-6f021d6276d9",
   "metadata": {},
   "outputs": [
    {
     "name": "stdout",
     "output_type": "stream",
     "text": [
      "Model: \"GRU\"\n",
      "_________________________________________________________________\n",
      " Layer (type)                Output Shape              Param #   \n",
      "=================================================================\n",
      " reshape (Reshape)           (None, 128, 1)            0         \n",
      "                                                                 \n",
      " gru (GRU)                   (None, 16)                912       \n",
      "                                                                 \n",
      " fc1 (Dense)                 (None, 8)                 136       \n",
      "                                                                 \n",
      " fc2 (Dense)                 (None, 4)                 36        \n",
      "                                                                 \n",
      " fc3 (Dense)                 (None, 2)                 10        \n",
      "                                                                 \n",
      " output (Dense)              (None, 1)                 3         \n",
      "                                                                 \n",
      "=================================================================\n",
      "Total params: 1,097\n",
      "Trainable params: 1,097\n",
      "Non-trainable params: 0\n",
      "_________________________________________________________________\n"
     ]
    }
   ],
   "source": [
    "gru_m.summary()"
   ]
  },
  {
   "cell_type": "code",
   "execution_count": 123,
   "id": "b0dd3087-723c-4411-82e8-94e3975762dd",
   "metadata": {},
   "outputs": [
    {
     "data": {
      "image/png": "[encoded data removed]",
      "text/plain": [
       "<IPython.core.display.Image object>"
      ]
     },
     "execution_count": 123,
     "metadata": {},
     "output_type": "execute_result"
    }
   ],
   "source": [
    "plot_model(gru_m,\n",
    "           rankdir=\"LR\",\n",
    "           show_shapes=True,\n",
    "           show_dtype=True,\n",
    "           show_layer_activations=True,\n",
    "           to_file=\"gru.png\")"
   ]
  },
  {
   "cell_type": "code",
   "execution_count": 124,
   "id": "bd837f11-faa9-4e59-98fa-014bc28edfff",
   "metadata": {},
   "outputs": [],
   "source": [
    "gru_m.compile(optimizer=\"adam\",\n",
    "              loss=\"mse\",\n",
    "              metrics=[error])"
   ]
  },
  {
   "cell_type": "code",
   "execution_count": 125,
   "id": "93adfa24-32fd-41b8-9262-2db50b4e6b80",
   "metadata": {},
   "outputs": [
    {
     "name": "stdout",
     "output_type": "stream",
     "text": [
      "Epoch 1/20\n",
      "256/256 [==============================] - 9s 28ms/step - loss: 9.2932 - error: 1.0255\n",
      "Epoch 2/20\n",
      "256/256 [==============================] - 8s 31ms/step - loss: 6.7795 - error: 0.0035\n",
      "Epoch 3/20\n",
      "256/256 [==============================] - 10s 38ms/step - loss: 2.8448 - error: 0.0260\n",
      "Epoch 4/20\n",
      "256/256 [==============================] - 10s 39ms/step - loss: 1.6795 - error: 9.3963e-04\n",
      "Epoch 5/20\n",
      "256/256 [==============================] - 8s 32ms/step - loss: 1.6430 - error: -8.6648e-04\n",
      "Epoch 6/20\n",
      "256/256 [==============================] - 8s 32ms/step - loss: 1.6115 - error: -0.0019\n",
      "Epoch 7/20\n",
      "256/256 [==============================] - 8s 32ms/step - loss: 1.5658 - error: -0.0011\n",
      "Epoch 8/20\n",
      "256/256 [==============================] - 7s 28ms/step - loss: 1.5101 - error: 1.0007e-04\n",
      "Epoch 9/20\n",
      "256/256 [==============================] - 7s 28ms/step - loss: 1.4531 - error: 0.0013\n",
      "Epoch 10/20\n",
      "256/256 [==============================] - 7s 27ms/step - loss: 1.3930 - error: 0.0039\n",
      "Epoch 11/20\n",
      "256/256 [==============================] - 7s 26ms/step - loss: 1.3381 - error: 0.0055\n",
      "Epoch 12/20\n",
      "256/256 [==============================] - 7s 27ms/step - loss: 1.2948 - error: 0.0037\n",
      "Epoch 13/20\n",
      "256/256 [==============================] - 7s 29ms/step - loss: 1.2658 - error: 0.0017\n",
      "Epoch 14/20\n",
      "256/256 [==============================] - 8s 31ms/step - loss: 1.2476 - error: 0.0012\n",
      "Epoch 15/20\n",
      "256/256 [==============================] - 8s 31ms/step - loss: 1.2349 - error: 9.0310e-04\n",
      "Epoch 16/20\n",
      "256/256 [==============================] - 8s 32ms/step - loss: 1.2246 - error: 5.9324e-04\n",
      "Epoch 17/20\n",
      "256/256 [==============================] - 7s 29ms/step - loss: 1.2151 - error: 2.7205e-04\n",
      "Epoch 18/20\n",
      "256/256 [==============================] - 7s 29ms/step - loss: 1.2056 - error: -1.2558e-05\n",
      "Epoch 19/20\n",
      "256/256 [==============================] - 7s 28ms/step - loss: 1.1956 - error: -9.1890e-05\n",
      "Epoch 20/20\n",
      "256/256 [==============================] - 7s 28ms/step - loss: 1.1853 - error: -7.2503e-05\n"
     ]
    }
   ],
   "source": [
    "# train the model\n",
    "history = gru_m.fit(X,\n",
    "                    y,\n",
    "                    epochs=20,\n",
    "                    batch_size=128,\n",
    "                    verbose=1,\n",
    "                    shuffle=False)"
   ]
  },
  {
   "cell_type": "markdown",
   "id": "3b3572aa-91df-4eb4-b384-6a14ca44d681",
   "metadata": {},
   "source": [
    "## Statistical analysis"
   ]
  },
  {
   "cell_type": "code",
   "execution_count": 126,
   "id": "2801bc65-2875-4fe8-a831-61427df7b62f",
   "metadata": {},
   "outputs": [],
   "source": [
    "def repeat_ests(model, a, b, mu, beg, end, n_repeats, seed):\n",
    "    \"\"\"\n",
    "    Repeats estimations of tau\n",
    "    \"\"\"\n",
    "    rng = np.random.default_rng(seed) # for reproducibility\n",
    "    \n",
    "    arrivals_l = []\n",
    "    taus_l     = []\n",
    "    est_taus_l = []\n",
    "    \n",
    "    for repeat in tqdm(range(n_repeats)):\n",
    "        arrivals, tau = trajectory(a, b, mu, beg, end, rng)\n",
    "        arrivals_l.append(arrivals)\n",
    "        taus_l.append(tau)\n",
    "        tau_est = model(arrivals.reshape(1, -1)).numpy()[0][0]\n",
    "        est_taus_l.append(tau_est)\n",
    "        \n",
    "    return taus_l, est_taus_l"
   ]
  },
  {
   "cell_type": "code",
   "execution_count": 127,
   "id": "89a60190-aee9-4d30-94d7-720a797dc2da",
   "metadata": {},
   "outputs": [],
   "source": [
    "def stat_summary(taus_l, est_taus_l):\n",
    "    \"\"\"\n",
    "    Prints a summary of the estimator and a bar plot of the errors\n",
    "    \"\"\"    \n",
    "    taus_arr = np.array(taus_l)\n",
    "    est_taus_arr = np.array(est_taus_l)\n",
    "    \n",
    "    error = taus_arr - est_taus_arr\n",
    "    \n",
    "    print(f\"bias: {np.mean(error):.2f}\")\n",
    "    print(f\"sigma: {np.std(error):.2f}\")\n",
    "    print(f\"mu={mu}\\na={a}\\nb={b}\")\n",
    "    \n",
    "    fig = plt.figure(figsize=(10, 3))\n",
    "    plt.hist(error, bins=50)\n",
    "    plt.title(fr\"$\\tau - \\hat{{\\tau}}$\")\n",
    "    plt.show()"
   ]
  },
  {
   "cell_type": "markdown",
   "id": "0359752c-67da-4083-a563-cdf70a7455d8",
   "metadata": {},
   "source": [
    "### Fully-connected net"
   ]
  },
  {
   "cell_type": "code",
   "execution_count": 128,
   "id": "fc645ba5-9b59-4742-a066-c774b1fe22a4",
   "metadata": {},
   "outputs": [
    {
     "name": "stderr",
     "output_type": "stream",
     "text": [
      "100%|██████████████████████████████████████████████████████████████████████████████████████████████████████████████████| 5000/5000 [00:14<00:00, 346.12it/s]\n"
     ]
    },
    {
     "name": "stdout",
     "output_type": "stream",
     "text": [
      "bias: -0.00\n",
      "sigma: 1.02\n",
      "mu=0.2\n",
      "a=5\n",
      "b=10\n"
     ]
    },
    {
     "data": {
      "image/png": "[encoded data removed]",
      "text/plain": [
       "<Figure size 720x216 with 1 Axes>"
      ]
     },
     "metadata": {},
     "output_type": "display_data"
    }
   ],
   "source": [
    "taus_l, est_taus_l = repeat_ests(fc_m, a, b, mu, beg, end, n_repeats=5000, seed=42)\n",
    "stat_summary(taus_l, est_taus_l)"
   ]
  },
  {
   "cell_type": "markdown",
   "id": "1de3183c-a299-46f3-a125-ee810f4cd904",
   "metadata": {},
   "source": [
    "### Conv net"
   ]
  },
  {
   "cell_type": "code",
   "execution_count": 129,
   "id": "c5293b6e-ce1f-4dc1-92ab-424e47ee1f40",
   "metadata": {},
   "outputs": [
    {
     "name": "stderr",
     "output_type": "stream",
     "text": [
      "100%|██████████████████████████████████████████████████████████████████████████████████████████████████████████████████| 5000/5000 [00:23<00:00, 212.37it/s]\n"
     ]
    },
    {
     "name": "stdout",
     "output_type": "stream",
     "text": [
      "bias: 0.07\n",
      "sigma: 0.99\n",
      "mu=0.2\n",
      "a=5\n",
      "b=10\n"
     ]
    },
    {
     "data": {
      "image/png": "[encoded data removed]",
      "text/plain": [
       "<Figure size 720x216 with 1 Axes>"
      ]
     },
     "metadata": {},
     "output_type": "display_data"
    }
   ],
   "source": [
    "taus_l, est_taus_l = repeat_ests(conv_m, a, b, mu, beg, end, n_repeats=5000, seed=42)\n",
    "stat_summary(taus_l, est_taus_l)"
   ]
  },
  {
   "cell_type": "markdown",
   "id": "28d94918-50d2-4f6e-8f69-b2956af46cf6",
   "metadata": {},
   "source": [
    "### LSTM net"
   ]
  },
  {
   "cell_type": "code",
   "execution_count": 130,
   "id": "b8bd952c-a054-458a-a4ef-9fd943f7852c",
   "metadata": {},
   "outputs": [
    {
     "name": "stderr",
     "output_type": "stream",
     "text": [
      "100%|███████████████████████████████████████████████████████████████████████████████████████████████████████████████████| 1000/1000 [01:51<00:00,  8.96it/s]\n"
     ]
    },
    {
     "name": "stdout",
     "output_type": "stream",
     "text": [
      "bias: 0.17\n",
      "sigma: 1.11\n",
      "mu=0.2\n",
      "a=5\n",
      "b=10\n"
     ]
    },
    {
     "data": {
      "image/png": "[encoded data removed]",
      "text/plain": [
       "<Figure size 720x216 with 1 Axes>"
      ]
     },
     "metadata": {},
     "output_type": "display_data"
    }
   ],
   "source": [
    "taus_l, est_taus_l = repeat_ests(lstm_m, a, b, mu, beg, end, n_repeats=1000, seed=42)\n",
    "stat_summary(taus_l, est_taus_l)"
   ]
  },
  {
   "cell_type": "markdown",
   "id": "ee89ac51-1f63-4a37-a65b-eed44513a10d",
   "metadata": {},
   "source": [
    "### GRU net"
   ]
  },
  {
   "cell_type": "code",
   "execution_count": 131,
   "id": "084e3bd2-e2ed-4e82-a0b4-b14889cfab4f",
   "metadata": {},
   "outputs": [
    {
     "name": "stderr",
     "output_type": "stream",
     "text": [
      "100%|███████████████████████████████████████████████████████████████████████████████████████████████████████████████████| 1000/1000 [02:16<00:00,  7.34it/s]\n"
     ]
    },
    {
     "name": "stdout",
     "output_type": "stream",
     "text": [
      "bias: 0.02\n",
      "sigma: 1.12\n",
      "mu=0.2\n",
      "a=5\n",
      "b=10\n"
     ]
    },
    {
     "data": {
      "image/png": "[encoded data removed]",
      "text/plain": [
       "<Figure size 720x216 with 1 Axes>"
      ]
     },
     "metadata": {},
     "output_type": "display_data"
    }
   ],
   "source": [
    "taus_l, est_taus_l = repeat_ests(gru_m, a, b, mu, beg, end, n_repeats=1000, seed=42)\n",
    "stat_summary(taus_l, est_taus_l)"
   ]
  },
  {
   "cell_type": "code",
   "execution_count": null,
   "id": "cbb6dd72-b162-4b90-bffd-1c4d0ffcca10",
   "metadata": {},
   "outputs": [],
   "source": []
  }
 ],
 "metadata": {
  "kernelspec": {
   "display_name": "Python 3 (ipykernel)",
   "language": "python",
   "name": "python3"
  },
  "language_info": {
   "codemirror_mode": {
    "name": "ipython",
    "version": 3
   },
   "file_extension": ".py",
   "mimetype": "text/x-python",
   "name": "python",
   "nbconvert_exporter": "python",
   "pygments_lexer": "ipython3",
   "version": "3.8.13"
  }
 },
 "nbformat": 4,
 "nbformat_minor": 5
}
